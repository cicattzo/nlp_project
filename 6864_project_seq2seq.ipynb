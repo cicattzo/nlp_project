{
  "nbformat": 4,
  "nbformat_minor": 0,
  "metadata": {
    "accelerator": "GPU",
    "colab": {
      "name": "6864_project_v2.ipynb",
      "provenance": [],
      "collapsed_sections": [],
      "toc_visible": true,
      "machine_shape": "hm"
    },
    "kernelspec": {
      "display_name": "Python 3",
      "language": "python",
      "name": "python3"
    },
    "language_info": {
      "codemirror_mode": {
        "name": "ipython",
        "version": 3
      },
      "file_extension": ".py",
      "mimetype": "text/x-python",
      "name": "python",
      "nbconvert_exporter": "python",
      "pygments_lexer": "ipython3",
      "version": "3.8.3"
    }
  },
  "cells": [
    {
      "cell_type": "markdown",
      "metadata": {
        "id": "Kg6-Ub-g-T5p"
      },
      "source": [
        "# Set up dependencies and data"
      ]
    },
    {
      "cell_type": "code",
      "metadata": {
        "id": "44HRJ_89fwvQ",
        "colab": {
          "base_uri": "https://localhost:8080/"
        },
        "outputId": "56ee2e31-6e86-4576-f49b-d0585a118a57"
      },
      "source": [
        "from google.colab import drive \n",
        "drive.mount(\"/content/drive\")\n",
        "\n",
        "#MODEL_FOLDER = \"/content/drive/My Drive/mit-6864/project\"\n",
        "#!mkdir -p \"/content/drive/My Drive/mit-6864/project\""
      ],
      "execution_count": 1,
      "outputs": [
        {
          "output_type": "stream",
          "text": [
            "Mounted at /content/drive\n"
          ],
          "name": "stdout"
        }
      ]
    },
    {
      "cell_type": "code",
      "metadata": {
        "colab": {
          "base_uri": "https://localhost:8080/"
        },
        "id": "cuLyWHF--mSu",
        "outputId": "1f06c686-8f24-4dea-aaa8-308c4ecdf5c0"
      },
      "source": [
        "%%bash\n",
        "git clone https://github.com/mit-6864/hw3.git\n",
        "mkdir -p /content/hw3/data"
      ],
      "execution_count": 24,
      "outputs": [
        {
          "output_type": "stream",
          "text": [
            "fatal: destination path 'hw3' already exists and is not an empty directory.\n"
          ],
          "name": "stderr"
        }
      ]
    },
    {
      "cell_type": "code",
      "metadata": {
        "id": "dTQr8nR512-B",
        "colab": {
          "base_uri": "https://localhost:8080/"
        },
        "outputId": "699ab581-5d0a-4ffa-adb1-a4fc667231ed"
      },
      "source": [
        "!pip -q install transformers\n",
        "#pip install datasets==1.0.2\n",
        "!pip install sacrebleu\n",
        "!pip install rouge_score"
      ],
      "execution_count": 3,
      "outputs": [
        {
          "output_type": "stream",
          "text": [
            "\u001b[K     |████████████████████████████████| 2.3MB 7.6MB/s \n",
            "\u001b[K     |████████████████████████████████| 3.3MB 49.3MB/s \n",
            "\u001b[K     |████████████████████████████████| 901kB 40.4MB/s \n",
            "\u001b[?25hCollecting sacrebleu\n",
            "\u001b[?25l  Downloading https://files.pythonhosted.org/packages/7e/57/0c7ca4e31a126189dab99c19951910bd081dea5bbd25f24b77107750eae7/sacrebleu-1.5.1-py3-none-any.whl (54kB)\n",
            "\u001b[K     |████████████████████████████████| 61kB 5.0MB/s \n",
            "\u001b[?25hCollecting portalocker==2.0.0\n",
            "  Downloading https://files.pythonhosted.org/packages/89/a6/3814b7107e0788040870e8825eebf214d72166adf656ba7d4bf14759a06a/portalocker-2.0.0-py2.py3-none-any.whl\n",
            "Installing collected packages: portalocker, sacrebleu\n",
            "Successfully installed portalocker-2.0.0 sacrebleu-1.5.1\n",
            "Collecting rouge_score\n",
            "  Downloading https://files.pythonhosted.org/packages/1f/56/a81022436c08b9405a5247b71635394d44fe7e1dbedc4b28c740e09c2840/rouge_score-0.0.4-py2.py3-none-any.whl\n",
            "Requirement already satisfied: absl-py in /usr/local/lib/python3.7/dist-packages (from rouge_score) (0.12.0)\n",
            "Requirement already satisfied: nltk in /usr/local/lib/python3.7/dist-packages (from rouge_score) (3.2.5)\n",
            "Requirement already satisfied: six>=1.14.0 in /usr/local/lib/python3.7/dist-packages (from rouge_score) (1.15.0)\n",
            "Requirement already satisfied: numpy in /usr/local/lib/python3.7/dist-packages (from rouge_score) (1.19.5)\n",
            "Installing collected packages: rouge-score\n",
            "Successfully installed rouge-score-0.0.4\n"
          ],
          "name": "stdout"
        }
      ]
    },
    {
      "cell_type": "code",
      "metadata": {
        "colab": {
          "base_uri": "https://localhost:8080/"
        },
        "id": "B6xKHRRrczjp",
        "outputId": "02c61b34-2ce6-406c-ce46-e9b7770e5ce5"
      },
      "source": [
        "# Download data\n",
        "DATA_DIR = \"/content/hw3/data\"\n",
        "!wget -nv -O \"$DATA_DIR/vocab.en\" https://nlp.stanford.edu/projects/nmt/data/iwslt15.en-vi/vocab.en"
      ],
      "execution_count": 25,
      "outputs": [
        {
          "output_type": "stream",
          "text": [
            "2021-05-15 19:14:39 URL:https://nlp.stanford.edu/projects/nmt/data/iwslt15.en-vi/vocab.en [139741/139741] -> \"/content/hw3/data/vocab.en\" [1]\n"
          ],
          "name": "stdout"
        }
      ]
    },
    {
      "cell_type": "code",
      "metadata": {
        "id": "6-uskYOZjk4l"
      },
      "source": [
        "%%capture\n",
        "import sacrebleu\n",
        "from rouge_score import rouge_scorer\n",
        "import pandas as pd\n",
        "#train_ds = datasets.load_dataset(\"cnn_dailymail\", \"3.0.0\", split=\"train\")\n",
        "#train = pd.DataFrame(train_ds)\n",
        "#valid_ds = datasets.load_dataset(\"cnn_dailymail\", \"3.0.0\", split=\"validation\")"
      ],
      "execution_count": 4,
      "outputs": []
    },
    {
      "cell_type": "code",
      "metadata": {
        "colab": {
          "base_uri": "https://localhost:8080/"
        },
        "id": "rDOrHl0h2AO_",
        "outputId": "0a203f77-9dce-436f-d3bc-6daaacbf7c47"
      },
      "source": [
        "##Import Train and Test sets \n",
        "#\n",
        "train = pd.read_csv(\"/content/drive/My Drive/6864_project/train_combined.csv\")\n",
        "print(\"Training Data Shape \", train.shape)\n",
        "print(\"Training Data Columns \", train.columns)"
      ],
      "execution_count": 5,
      "outputs": [
        {
          "output_type": "stream",
          "text": [
            "Training Data Shape  (14824, 3)\n",
            "Training Data Columns  Index(['article', 'highlights', 'id'], dtype='object')\n"
          ],
          "name": "stdout"
        }
      ]
    },
    {
      "cell_type": "code",
      "metadata": {
        "colab": {
          "base_uri": "https://localhost:8080/"
        },
        "id": "qjeE69a13dVt",
        "outputId": "d6db5939-8a4a-4092-e91f-7c2ae621fb59"
      },
      "source": [
        "test = pd.read_csv(\"/content/drive/My Drive/6864_project/bc3_test.csv\")\n",
        "\n",
        "print(\"Test Data Shape \", test.shape)\n",
        "print(\"Test Data Columns \", test.columns)"
      ],
      "execution_count": 6,
      "outputs": [
        {
          "output_type": "stream",
          "text": [
            "Test Data Shape  (201, 5)\n",
            "Test Data Columns  Index(['listno', 'subject', 'body', 'email_num', 'summary'], dtype='object')\n"
          ],
          "name": "stdout"
        }
      ]
    },
    {
      "cell_type": "code",
      "metadata": {
        "id": "olW8jrSH4UZv"
      },
      "source": [
        "#Naming convention to be followed - articles, highlights\n",
        "test = test[[\"body\", \"summary\"]]\n",
        "test.columns = [\"article\", \"highlights\"]"
      ],
      "execution_count": 7,
      "outputs": []
    },
    {
      "cell_type": "code",
      "metadata": {
        "colab": {
          "base_uri": "https://localhost:8080/"
        },
        "id": "34DQNht6lAr5",
        "outputId": "4fe72bd3-7638-4d99-fd87-e6347d55f18a"
      },
      "source": [
        "#Get sentence lengths for training data set summaries and articles \n",
        "train[\"len\"] = train[\"article\"].apply(lambda x : len(x.split()))\n",
        "train[\"sumlen\"] = train[\"highlights\"].apply(lambda x : len(x.split()))\n",
        "print(\"Max sentence length for training dataset articles is \", max(train[\"len\"]))\n",
        "print(\"Max sentence length for training dataset summaries is \", max(train[\"sumlen\"]))"
      ],
      "execution_count": 8,
      "outputs": [
        {
          "output_type": "stream",
          "text": [
            "Max sentence length for training dataset articles is  1876\n",
            "Max sentence length for training dataset summaries is  121\n"
          ],
          "name": "stdout"
        }
      ]
    },
    {
      "cell_type": "code",
      "metadata": {
        "colab": {
          "base_uri": "https://localhost:8080/"
        },
        "id": "ThwVHHpgojY1",
        "outputId": "5b9d00dd-1f14-4329-b47d-4c748a8270ff"
      },
      "source": [
        "#Get sentence lengths for training data set summaries and articles \n",
        "test[\"len\"] = test[\"article\"].apply(lambda x : len(x.split()))\n",
        "test[\"sumlen\"] = test[\"highlights\"].apply(lambda x : len(x.split()))\n",
        "print(\"Max sentence length for test dataset articles is \", max(test[\"len\"]))\n",
        "print(\"Max sentence length for test dataset summaries is \", max(test[\"sumlen\"]))"
      ],
      "execution_count": 9,
      "outputs": [
        {
          "output_type": "stream",
          "text": [
            "Max sentence length for test dataset articles is  451\n",
            "Max sentence length for test dataset summaries is  73\n"
          ],
          "name": "stdout"
        }
      ]
    },
    {
      "cell_type": "code",
      "metadata": {
        "colab": {
          "base_uri": "https://localhost:8080/",
          "height": 285
        },
        "id": "Uvusiorn5jZO",
        "outputId": "44e23c22-4bcc-4b19-851b-836a9dffe4f7"
      },
      "source": [
        "#Plot ditributions for article and summary lengths in the training dataset\n",
        "import seaborn as sns\n",
        "sns.set()\n",
        "%matplotlib inline\n",
        "fig= sns.histplot(train[\"len\"])\n",
        "fig.set(xlabel='Article Length - Training Data')\n",
        "plt.show()"
      ],
      "execution_count": null,
      "outputs": [
        {
          "output_type": "display_data",
          "data": {
            "image/png": "[encoded data removed]",
            "text/plain": [
              "<Figure size 432x288 with 1 Axes>"
            ]
          },
          "metadata": {
            "tags": [],
            "needs_background": "light"
          }
        }
      ]
    },
    {
      "cell_type": "code",
      "metadata": {
        "colab": {
          "base_uri": "https://localhost:8080/",
          "height": 288
        },
        "id": "B5-1btr66zrP",
        "outputId": "1172f956-b2f4-414b-818c-9e62d8f56af6"
      },
      "source": [
        "sns.set()\n",
        "%matplotlib inline\n",
        "fig= sns.histplot(test[\"len\"])\n",
        "fig.set(xlabel='Article Length - Test Data')\n",
        "plt.show()\n"
      ],
      "execution_count": null,
      "outputs": [
        {
          "output_type": "display_data",
          "data": {
            "image/png": "[encoded data removed]",
            "text/plain": [
              "<Figure size 432x288 with 1 Axes>"
            ]
          },
          "metadata": {
            "tags": [],
            "needs_background": "light"
          }
        }
      ]
    },
    {
      "cell_type": "code",
      "metadata": {
        "colab": {
          "base_uri": "https://localhost:8080/",
          "height": 288
        },
        "id": "g317_e4Q7HbC",
        "outputId": "acf65e94-8529-4b0d-dd77-36b7b51883e8"
      },
      "source": [
        "#Plot ditributions for article and summary lengths in the training dataset\n",
        "#import seaborn as sns\n",
        "sns.set()\n",
        "%matplotlib inline\n",
        "fig= sns.histplot(train[\"sumlen\"])\n",
        "fig.set(xlabel='Summary Length - Training Data')\n",
        "plt.show()"
      ],
      "execution_count": null,
      "outputs": [
        {
          "output_type": "display_data",
          "data": {
            "image/png": "[encoded data removed]",
            "text/plain": [
              "<Figure size 432x288 with 1 Axes>"
            ]
          },
          "metadata": {
            "tags": [],
            "needs_background": "light"
          }
        }
      ]
    },
    {
      "cell_type": "code",
      "metadata": {
        "colab": {
          "base_uri": "https://localhost:8080/",
          "height": 288
        },
        "id": "cLeOOJj87NT1",
        "outputId": "99a21974-bf94-4b8a-9e6b-761aa452a2d8"
      },
      "source": [
        "sns.set()\n",
        "%matplotlib inline\n",
        "fig= sns.histplot(test[\"sumlen\"])\n",
        "fig.set(xlabel='Summary Length - Test Data')\n",
        "plt.show()"
      ],
      "execution_count": null,
      "outputs": [
        {
          "output_type": "display_data",
          "data": {
            "image/png": "[encoded data removed]",
            "text/plain": [
              "<Figure size 432x288 with 1 Axes>"
            ]
          },
          "metadata": {
            "tags": [],
            "needs_background": "light"
          }
        }
      ]
    },
    {
      "cell_type": "code",
      "metadata": {
        "colab": {
          "base_uri": "https://localhost:8080/"
        },
        "id": "flCBSHHJ7NLI",
        "outputId": "df3bc598-a9aa-4380-8494-d4091b674bd0"
      },
      "source": [
        "#Select max sentence length \n",
        "train = train.query('len < 400 and sumlen < 400 and len >0 and sumlen >0')\n",
        "test = test.query('len < 400 and sumlen < 400 and len >0 and sumlen >0')\n",
        "print(train.shape)\n",
        "print(test.shape)"
      ],
      "execution_count": 11,
      "outputs": [
        {
          "output_type": "stream",
          "text": [
            "(4358, 5)\n",
            "(198, 4)\n"
          ],
          "name": "stdout"
        }
      ]
    },
    {
      "cell_type": "code",
      "metadata": {
        "colab": {
          "base_uri": "https://localhost:8080/",
          "height": 17
        },
        "id": "CE99sNVEmp5z",
        "outputId": "4e48746e-071a-4eb4-a423-b3287f0a1395"
      },
      "source": [
        "#Uncomment to save dataframes \n",
        "#from google.colab import files\n",
        "#train.to_csv('short_cnn.csv') \n",
        "#files.download('short_cnn.csv')"
      ],
      "execution_count": null,
      "outputs": [
        {
          "output_type": "display_data",
          "data": {
            "application/javascript": [
              "\n",
              "    async function download(id, filename, size) {\n",
              "      if (!google.colab.kernel.accessAllowed) {\n",
              "        return;\n",
              "      }\n",
              "      const div = document.createElement('div');\n",
              "      const label = document.createElement('label');\n",
              "      label.textContent = `Downloading \"${filename}\": `;\n",
              "      div.appendChild(label);\n",
              "      const progress = document.createElement('progress');\n",
              "      progress.max = size;\n",
              "      div.appendChild(progress);\n",
              "      document.body.appendChild(div);\n",
              "\n",
              "      const buffers = [];\n",
              "      let downloaded = 0;\n",
              "\n",
              "      const channel = await google.colab.kernel.comms.open(id);\n",
              "      // Send a message to notify the kernel that we're ready.\n",
              "      channel.send({})\n",
              "\n",
              "      for await (const message of channel.messages) {\n",
              "        // Send a message to notify the kernel that we're ready.\n",
              "        channel.send({})\n",
              "        if (message.buffers) {\n",
              "          for (const buffer of message.buffers) {\n",
              "            buffers.push(buffer);\n",
              "            downloaded += buffer.byteLength;\n",
              "            progress.value = downloaded;\n",
              "          }\n",
              "        }\n",
              "      }\n",
              "      const blob = new Blob(buffers, {type: 'application/binary'});\n",
              "      const a = document.createElement('a');\n",
              "      a.href = window.URL.createObjectURL(blob);\n",
              "      a.download = filename;\n",
              "      div.appendChild(a);\n",
              "      a.click();\n",
              "      div.remove();\n",
              "    }\n",
              "  "
            ],
            "text/plain": [
              "<IPython.core.display.Javascript object>"
            ]
          },
          "metadata": {
            "tags": []
          }
        },
        {
          "output_type": "display_data",
          "data": {
            "application/javascript": [
              "download(\"download_99e9d417-62cc-440e-a025-684f593f0a1f\", \"short_cnn.csv\", 13211282)"
            ],
            "text/plain": [
              "<IPython.core.display.Javascript object>"
            ]
          },
          "metadata": {
            "tags": []
          }
        }
      ]
    },
    {
      "cell_type": "code",
      "metadata": {
        "id": "HV1H7hrZ-zgG",
        "colab": {
          "base_uri": "https://localhost:8080/"
        },
        "outputId": "cf93f65c-4d20-4dd0-adc0-aa29b21c27dc"
      },
      "source": [
        "import sys\n",
        "sys.path.append(\"/content/hw3\")\n",
        "import pandas as pd\n",
        "import lab_utils\n",
        "from nltk.tokenize import word_tokenize\n",
        "import nltk\n",
        "nltk.download('punkt')\n",
        "import torch \n",
        "import numpy as np\n",
        "\n",
        "device = \"cuda\" if torch.cuda.is_available() else \"cpu\"\n",
        "assert device == \"cuda\"   # use gpu whenever you can!\n",
        "\n",
        "seed = 42\n",
        "np.random.seed(seed)\n",
        "torch.manual_seed(seed)\n",
        "torch.cuda.manual_seed(seed)\n",
        "#torch.cuda.empty_cache()"
      ],
      "execution_count": 13,
      "outputs": [
        {
          "output_type": "stream",
          "text": [
            "[nltk_data] Downloading package punkt to /root/nltk_data...\n",
            "[nltk_data]   Unzipping tokenizers/punkt.zip.\n"
          ],
          "name": "stdout"
        }
      ]
    },
    {
      "cell_type": "code",
      "metadata": {
        "colab": {
          "base_uri": "https://localhost:8080/"
        },
        "id": "tdhEWOBR9NxS",
        "outputId": "c58329e5-a4f2-447e-b898-4cdbc8c12eb5"
      },
      "source": [
        "#Preprocessing \n",
        "import re\n",
        "from nltk.corpus import stopwords\n",
        "import nltk\n",
        "nltk.download('stopwords')\n"
      ],
      "execution_count": 14,
      "outputs": [
        {
          "output_type": "stream",
          "text": [
            "[nltk_data] Downloading package stopwords to /root/nltk_data...\n",
            "[nltk_data]   Unzipping corpora/stopwords.zip.\n"
          ],
          "name": "stdout"
        },
        {
          "output_type": "execute_result",
          "data": {
            "text/plain": [
              "True"
            ]
          },
          "metadata": {
            "tags": []
          },
          "execution_count": 14
        }
      ]
    },
    {
      "cell_type": "code",
      "metadata": {
        "id": "5i_tRdf3-2Lg"
      },
      "source": [
        "contraction_mapping = {\"ain't\": \"is not\", \"aren't\": \"are not\",\"can't\": \"cannot\", \"'cause\": \"because\", \"could've\": \"could have\", \"couldn't\": \"could not\",\n",
        "\n",
        "                           \"didn't\": \"did not\", \"doesn't\": \"does not\", \"don't\": \"do not\", \"hadn't\": \"had not\", \"hasn't\": \"has not\", \"haven't\": \"have not\",\n",
        "\n",
        "                           \"he'd\": \"he would\",\"he'll\": \"he will\", \"he's\": \"he is\", \"how'd\": \"how did\", \"how'd'y\": \"how do you\", \"how'll\": \"how will\", \"how's\": \"how is\",\n",
        "\n",
        "                           \"I'd\": \"I would\", \"I'd've\": \"I would have\", \"I'll\": \"I will\", \"I'll've\": \"I will have\",\"I'm\": \"I am\", \"I've\": \"I have\", \"i'd\": \"i would\",\n",
        "\n",
        "                           \"i'd've\": \"i would have\", \"i'll\": \"i will\",  \"i'll've\": \"i will have\",\"i'm\": \"i am\", \"i've\": \"i have\", \"isn't\": \"is not\", \"it'd\": \"it would\",\n",
        "\n",
        "                           \"it'd've\": \"it would have\", \"it'll\": \"it will\", \"it'll've\": \"it will have\",\"it's\": \"it is\", \"let's\": \"let us\", \"ma'am\": \"madam\",\n",
        "\n",
        "                           \"mayn't\": \"may not\", \"might've\": \"might have\",\"mightn't\": \"might not\",\"mightn't've\": \"might not have\", \"must've\": \"must have\",\n",
        "\n",
        "                           \"mustn't\": \"must not\", \"mustn't've\": \"must not have\", \"needn't\": \"need not\", \"needn't've\": \"need not have\",\"o'clock\": \"of the clock\",\n",
        "\n",
        "                           \"oughtn't\": \"ought not\", \"oughtn't've\": \"ought not have\", \"shan't\": \"shall not\", \"sha'n't\": \"shall not\", \"shan't've\": \"shall not have\",\n",
        "\n",
        "                           \"she'd\": \"she would\", \"she'd've\": \"she would have\", \"she'll\": \"she will\", \"she'll've\": \"she will have\", \"she's\": \"she is\",\n",
        "\n",
        "                           \"should've\": \"should have\", \"shouldn't\": \"should not\", \"shouldn't've\": \"should not have\", \"so've\": \"so have\",\"so's\": \"so as\",\n",
        "\n",
        "                           \"this's\": \"this is\",\"that'd\": \"that would\", \"that'd've\": \"that would have\", \"that's\": \"that is\", \"there'd\": \"there would\",\n",
        "\n",
        "                           \"there'd've\": \"there would have\", \"there's\": \"there is\", \"here's\": \"here is\",\"they'd\": \"they would\", \"they'd've\": \"they would have\",\n",
        "\n",
        "                           \"they'll\": \"they will\", \"they'll've\": \"they will have\", \"they're\": \"they are\", \"they've\": \"they have\", \"to've\": \"to have\",\n",
        "\n",
        "                           \"wasn't\": \"was not\", \"we'd\": \"we would\", \"we'd've\": \"we would have\", \"we'll\": \"we will\", \"we'll've\": \"we will have\", \"we're\": \"we are\",\n",
        "\n",
        "                           \"we've\": \"we have\", \"weren't\": \"were not\", \"what'll\": \"what will\", \"what'll've\": \"what will have\", \"what're\": \"what are\",\n",
        "\n",
        "                           \"what's\": \"what is\", \"what've\": \"what have\", \"when's\": \"when is\", \"when've\": \"when have\", \"where'd\": \"where did\", \"where's\": \"where is\",\n",
        "\n",
        "                           \"where've\": \"where have\", \"who'll\": \"who will\", \"who'll've\": \"who will have\", \"who's\": \"who is\", \"who've\": \"who have\",\n",
        "\n",
        "                           \"why's\": \"why is\", \"why've\": \"why have\", \"will've\": \"will have\", \"won't\": \"will not\", \"won't've\": \"will not have\",\n",
        "\n",
        "                           \"would've\": \"would have\", \"wouldn't\": \"would not\", \"wouldn't've\": \"would not have\", \"y'all\": \"you all\",\n",
        "\n",
        "                           \"y'all'd\": \"you all would\",\"y'all'd've\": \"you all would have\",\"y'all're\": \"you all are\",\"y'all've\": \"you all have\",\n",
        "\n",
        "                           \"you'd\": \"you would\", \"you'd've\": \"you would have\", \"you'll\": \"you will\", \"you'll've\": \"you will have\",\n",
        "\n",
        "                           \"you're\": \"you are\", \"you've\": \"you have\"}"
      ],
      "execution_count": 15,
      "outputs": []
    },
    {
      "cell_type": "code",
      "metadata": {
        "colab": {
          "base_uri": "https://localhost:8080/"
        },
        "id": "_hN3sKaN-Xe_",
        "outputId": "e29bc07c-d4e6-48fb-eab0-f60de25e248f"
      },
      "source": [
        "stop_words = stopwords.words('english')\n",
        "\n",
        "def preprocess(text):\n",
        "    text = text.lower() \n",
        "    text = text.split() \n",
        "    for i in range(len(text)):\n",
        "        word = text[i]\n",
        "        if word in contraction_mapping:\n",
        "            text[i] = contraction_mapping[word]\n",
        "    text = \" \".join(text)\n",
        "    text = text.split()\n",
        "    newtext = []\n",
        "    for word in text:\n",
        "        if word not in stop_words:\n",
        "            newtext.append(word)\n",
        "    text = \" \".join(newtext)\n",
        "    text = text.replace(\"'s\",'') \n",
        "    text = re.sub(r'\\(.*\\)','',text) # remove (words)\n",
        "    text = re.sub(r'[^a-zA-Z. ]','',text) # remove punctuations but not full stop\n",
        "    text = re.sub(r'\\&','',text)  #Found very often in CNN dataset \n",
        "    text = re.sub(r'(cnn)|(new :)|(news :)','',text)\n",
        "    text = re.sub(r' +',' ',text)\n",
        "    return text\n",
        "print(preprocess(\"123 kjenkdnwkjef jksdbkj wjdkjsd,cdnj....\"))\n",
        "print(\"123 kjenkdnwkjef jksdbkj wjdkjsd,cdnj....\")"
      ],
      "execution_count": 16,
      "outputs": [
        {
          "output_type": "stream",
          "text": [
            " kjenkdnwkjef jksdbkj wjdkjsdcdnj....\n",
            "123 kjenkdnwkjef jksdbkj wjdkjsd,cdnj....\n"
          ],
          "name": "stdout"
        }
      ]
    },
    {
      "cell_type": "code",
      "metadata": {
        "id": "AF_IVvBWZbzx"
      },
      "source": [
        "from nltk.stem import PorterStemmer\n",
        "ps = PorterStemmer()"
      ],
      "execution_count": 17,
      "outputs": []
    },
    {
      "cell_type": "code",
      "metadata": {
        "id": "74Piy00o2l9h"
      },
      "source": [
        "def convert_token_list(df, column):\n",
        "  ## regex replace multiple occurences of - , > , < and covert .com to website \n",
        "  ts = df[column].values.tolist()\n",
        "  tst =[]\n",
        "  for i in range(df.shape[0]):\n",
        "    tokens = word_tokenize(ts[i])\n",
        "    tokens_stem=[]\n",
        "    for word in tokens:\n",
        "      wordt = ps.stem(word)\n",
        "      tokens_stem.append(wordt)\n",
        "    tst.append(tokens_stem)\n",
        "  return tst "
      ],
      "execution_count": 18,
      "outputs": []
    },
    {
      "cell_type": "code",
      "metadata": {
        "id": "j49BSaMMAvh7"
      },
      "source": [
        "train.loc[:,'highlights'] = train['highlights'].apply(lambda x:preprocess(x))\n",
        "train.loc[:,'article'] = train['article'].apply(lambda x:preprocess(x))"
      ],
      "execution_count": 19,
      "outputs": []
    },
    {
      "cell_type": "code",
      "metadata": {
        "id": "8DZq878BBCyR"
      },
      "source": [
        "test.loc[:,'highlights'] = test['highlights'].apply(lambda x:preprocess(x))\n",
        "test.loc[:,'article'] = test['article'].apply(lambda x:preprocess(x))"
      ],
      "execution_count": 20,
      "outputs": []
    },
    {
      "cell_type": "code",
      "metadata": {
        "id": "sgMmXniCDkPc"
      },
      "source": [
        "train_src_sentences_list = convert_token_list(train, \"article\")\n",
        "train_trg_sentences_list = convert_token_list(train, \"highlights\")\n",
        "assert len(train_src_sentences_list) == len(train_trg_sentences_list)\n",
        "\n",
        "test_src_sentences_list = convert_token_list(test, \"article\")\n",
        "test_trg_sentences_list = convert_token_list(test, \"highlights\")\n",
        "assert len(test_src_sentences_list) == len(test_trg_sentences_list)\n",
        "\n",
        "MAX_SENT_LENGTH = 400\n",
        "MAX_SENT_LENGTH_PLUS_SOS_EOS = MAX_SENT_LENGTH +2 "
      ],
      "execution_count": 21,
      "outputs": []
    },
    {
      "cell_type": "code",
      "metadata": {
        "colab": {
          "base_uri": "https://localhost:8080/"
        },
        "id": "1ALviY16dJpS",
        "outputId": "ab7ccbd2-907e-426e-ccef-2415502caa98"
      },
      "source": [
        "from lab_utils import read_vocab_file, read_sentence_file, filter_data\n",
        "src_vocab = read_vocab_file(\"vocab.en\")\n",
        "print(\"Default vocab size \", len(src_vocab))\n",
        "def_vocab = src_vocab[0:5]"
      ],
      "execution_count": 27,
      "outputs": [
        {
          "output_type": "stream",
          "text": [
            "Default vocab size  17192\n"
          ],
          "name": "stdout"
        }
      ]
    },
    {
      "cell_type": "code",
      "metadata": {
        "colab": {
          "base_uri": "https://localhost:8080/"
        },
        "id": "dsG_a35OEIo0",
        "outputId": "cd1fbe10-662e-4614-fac5-57d9f14c5216"
      },
      "source": [
        "src_vocab_set = def_vocab + list(set([i for j in train_src_sentences_list for i in j] + [i for j in train_trg_sentences_list for i in j]))\n",
        "trg_vocab_set = src_vocab_set\n",
        "print(\"Custom vocab size \", len(src_vocab_set))\n",
        "#The size of this custom vocab is much higher than the default one. We will choose this one to avoid unk tokens "
      ],
      "execution_count": 28,
      "outputs": [
        {
          "output_type": "stream",
          "text": [
            "Custom vocab size  30972\n"
          ],
          "name": "stdout"
        }
      ]
    },
    {
      "cell_type": "code",
      "metadata": {
        "id": "Bah0S5rKTDT9"
      },
      "source": [
        "\n",
        "train_src_sentences_list, train_trg_sentences_list = filter_data(\n",
        "    train_src_sentences_list, train_trg_sentences_list, MAX_SENT_LENGTH)\n",
        "test_src_sentences_list, test_trg_sentences_list = filter_data(\n",
        "    test_src_sentences_list, test_trg_sentences_list, MAX_SENT_LENGTH)\n",
        "\n",
        "# We take 10% of training data as validation set.\n",
        "num_val = int(len(train_src_sentences_list) * 0.1)\n",
        "val_src_sentences_list = train_src_sentences_list[:num_val]\n",
        "val_trg_sentences_list = train_trg_sentences_list[:num_val]\n",
        "train_src_sentences_list = train_src_sentences_list[num_val:]\n",
        "train_trg_sentences_list = train_trg_sentences_list[num_val:]\n",
        "\n"
      ],
      "execution_count": 29,
      "outputs": []
    },
    {
      "cell_type": "code",
      "metadata": {
        "id": "DOjSiD3urw_R"
      },
      "source": [
        "import torch\n",
        "from torch.utils import data\n",
        "\n",
        "# These IDs are reserved.\n",
        "PAD_INDEX = 0\n",
        "UNK_INDEX = 1\n",
        "SOS_INDEX = 2\n",
        "EOS_INDEX = 3\n",
        "\n",
        "\n",
        "class MTDataset(data.Dataset):\n",
        "  def __init__(self, src_sentences, src_vocabs, trg_sentences, trg_vocabs,\n",
        "               sampling=1.):\n",
        "    self.src_sentences = src_sentences[:int(len(src_sentences) * sampling)]\n",
        "    self.trg_sentences = trg_sentences[:int(len(src_sentences) * sampling)]\n",
        "\n",
        "    self.max_src_seq_length = MAX_SENT_LENGTH_PLUS_SOS_EOS\n",
        "    self.max_trg_seq_length = MAX_SENT_LENGTH_PLUS_SOS_EOS\n",
        "\n",
        "    self.src_vocabs = src_vocabs\n",
        "    self.trg_vocabs = trg_vocabs\n",
        "\n",
        "    self.src_v2id = {v : i for i, v in enumerate(src_vocabs)}\n",
        "    self.src_id2v = {val : key for key, val in self.src_v2id.items()}\n",
        "    self.trg_v2id = {v : i for i, v in enumerate(trg_vocabs)}\n",
        "    self.trg_id2v = {val : key for key, val in self.trg_v2id.items()}\n",
        "\n",
        "  def __len__(self):\n",
        "    return len(self.src_sentences)\n",
        "\n",
        "  def __getitem__(self, index):\n",
        "    src_sent = self.src_sentences[index]\n",
        "    src_len = len(src_sent) + 2   # add <s> and </s> to each sentence\n",
        "    src_id = []\n",
        "    for w in src_sent:\n",
        "      if w not in self.src_vocabs:\n",
        "        #print(w)\n",
        "        w = '<unk>'\n",
        "      src_id.append(self.src_v2id[w])\n",
        "    src_id = ([SOS_INDEX] + src_id + [EOS_INDEX] + [PAD_INDEX] *\n",
        "              (self.max_src_seq_length - src_len))\n",
        "\n",
        "    trg_sent = self.trg_sentences[index]\n",
        "    trg_len = len(trg_sent) + 2\n",
        "    trg_id = []\n",
        "    for w in trg_sent:\n",
        "      if w not in self.trg_vocabs:\n",
        "        w = '<unk>'\n",
        "      trg_id.append(self.trg_v2id[w])\n",
        "    trg_id = ([SOS_INDEX] + trg_id + [EOS_INDEX] + [PAD_INDEX] *\n",
        "              (self.max_trg_seq_length - trg_len))\n",
        "\n",
        "    return torch.tensor(src_id), src_len, torch.tensor(trg_id), trg_len"
      ],
      "execution_count": 30,
      "outputs": []
    },
    {
      "cell_type": "markdown",
      "metadata": {
        "id": "gAk-fj8GEdOj"
      },
      "source": [
        "Encoder"
      ]
    },
    {
      "cell_type": "code",
      "metadata": {
        "id": "YZ3rJ1TlElu5"
      },
      "source": [
        "import torch.nn as nn\n",
        "import torch.nn.functional as F\n",
        "from torch.nn.utils.rnn import pack_padded_sequence, pad_packed_sequence\n",
        "\n",
        "\n",
        "class Encoder(nn.Module):\n",
        "  def __init__(self, input_size, hidden_size, dropout=0.):    \n",
        "    super(Encoder, self).__init__()\n",
        "\n",
        "    self.rnn = nn.GRU(input_size, hidden_size, num_layers=3, batch_first=True,\n",
        "                      dropout=dropout, bidirectional=True)\n",
        "\n",
        "  def forward(self, inputs, lengths):\n",
        "    outputs = None\n",
        "    finals = None\n",
        "    #embeddings = self.dropout(self.embedding(x))\n",
        "    \n",
        "    packed = pack_padded_sequence(inputs, lengths.cpu(), batch_first=True,\n",
        "                                  enforce_sorted=False)\n",
        "    outputs, finals = self.rnn(packed)\n",
        "    outputs, _ = pad_packed_sequence(outputs, batch_first=True,\n",
        "                                     total_length=MAX_SENT_LENGTH_PLUS_SOS_EOS)\n",
        "\n",
        "    return outputs, finals"
      ],
      "execution_count": 31,
      "outputs": []
    },
    {
      "cell_type": "markdown",
      "metadata": {
        "id": "nCTTreYNFMja"
      },
      "source": [
        "## Decoder\n"
      ]
    },
    {
      "cell_type": "code",
      "metadata": {
        "id": "9ZnDk1j9FNOH"
      },
      "source": [
        "class Decoder(nn.Module):\n",
        "  \"\"\"An RNN decoder without attention.\"\"\"\n",
        "\n",
        "  def __init__(self, input_size, hidden_size, dropout=0.):\n",
        "    super(Decoder, self).__init__()\n",
        "\n",
        "    \n",
        "    self.rnn = nn.GRU(input_size, hidden_size, batch_first=True,\n",
        "                      dropout=dropout)\n",
        "    self.bridge = nn.Linear(hidden_size, hidden_size, bias=True)\n",
        "\n",
        "    self.dropout_layer = nn.Dropout(p=dropout)\n",
        "    self.pre_output_layer = nn.Linear(hidden_size + input_size, hidden_size,\n",
        "                                      bias=False)\n",
        "    \n",
        "\n",
        "  def forward_step(self, prev_embed, hidden):\n",
        "\n",
        "    pre_output = None\n",
        "\n",
        "    pre_output, hidden = self.rnn(prev_embed, hidden) # minimun necessary\n",
        "\n",
        "    pre_output = torch.cat([prev_embed, pre_output], dim=2)\n",
        "\n",
        "    pre_output = self.dropout_layer(pre_output)\n",
        "    pre_output = self.pre_output_layer(pre_output)\n",
        "\n",
        "    return hidden, pre_output\n",
        "\n",
        "  def forward(self, inputs, encoder_finals, hidden=None, max_len=None):\n",
        "\n",
        "    if max_len is None:\n",
        "      max_len = inputs.size(1)\n",
        "\n",
        "    if hidden is None:\n",
        "      hidden = self.init_hidden(encoder_finals)\n",
        "\n",
        "    outputs = None\n",
        "\n",
        "    pre_output_vectors = []\n",
        "\n",
        "    for i in range(max_len):\n",
        "      prev_embed = inputs[:, i].unsqueeze(1)\n",
        "      hidden, pre_output = self.forward_step(prev_embed, hidden)\n",
        "      pre_output_vectors.append(pre_output)\n",
        "\n",
        "    outputs = torch.cat(pre_output_vectors, dim=1)\n",
        "\n",
        "    return hidden, outputs\n",
        "\n",
        "  def init_hidden(self, encoder_finals):\n",
        "    \"\"\"Use encoder final hidden state to initialize decoder's first hidden\n",
        "    state.\"\"\"\n",
        "    decoder_init_hiddens = torch.tanh(self.bridge(encoder_finals))\n",
        "    \n",
        "    return decoder_init_hiddens"
      ],
      "execution_count": 32,
      "outputs": []
    },
    {
      "cell_type": "code",
      "metadata": {
        "id": "cPmfDZ2fF7jy"
      },
      "source": [
        "class EncoderDecoder(nn.Module):\n",
        "  \"\"\"A standard Encoder-Decoder architecture without attention.\n",
        "  \"\"\"\n",
        "  def __init__(self, encoder, decoder, src_embed, trg_embed, generator):\n",
        "    super(EncoderDecoder, self).__init__()\n",
        "\n",
        "    self.encoder = encoder\n",
        "    self.decoder = decoder\n",
        "    self.src_embed = src_embed\n",
        "    self.trg_embed = trg_embed\n",
        "    self.generator = generator\n",
        "\n",
        "  def forward(self, src_ids, trg_ids, src_lengths):\n",
        "    encoder_hiddens, encoder_finals = self.encode(src_ids, src_lengths)\n",
        "    del encoder_hiddens   # unused\n",
        "    return self.decode(encoder_finals, trg_ids[:, :-1])\n",
        "\n",
        "  def encode(self, src_ids, src_lengths):\n",
        "    return self.encoder(self.src_embed(src_ids), src_lengths)\n",
        "    \n",
        "  def decode(self, encoder_finals, trg_ids, decoder_hidden=None):\n",
        "    return self.decoder(self.trg_embed(trg_ids), encoder_finals, decoder_hidden)"
      ],
      "execution_count": 33,
      "outputs": []
    },
    {
      "cell_type": "code",
      "metadata": {
        "id": "T43dUgwLGBnI"
      },
      "source": [
        "class Generator(nn.Module):\n",
        "  \"\"\"Define standard linear + softmax generation step.\"\"\"\n",
        "  def __init__(self, hidden_size, vocab_size):\n",
        "    super(Generator, self).__init__()\n",
        "    self.proj = nn.Linear(hidden_size, vocab_size, bias=False)\n",
        "\n",
        "  def forward(self, x):\n",
        "    return F.log_softmax(self.proj(x), dim=-1)"
      ],
      "execution_count": 34,
      "outputs": []
    },
    {
      "cell_type": "markdown",
      "metadata": {
        "id": "FdfQQaXgHcX_"
      },
      "source": [
        "## Training"
      ]
    },
    {
      "cell_type": "code",
      "metadata": {
        "id": "kx_PXmw3HgXo"
      },
      "source": [
        "from torch.utils import data\n",
        "\n",
        "batch_size = 32\n",
        "\n",
        "train_set = MTDataset(train_src_sentences_list, src_vocab_set,\n",
        "                      train_trg_sentences_list, trg_vocab_set, sampling=1.)\n",
        "train_data_loader = data.DataLoader(train_set, batch_size=batch_size,\n",
        "                                    num_workers=3, shuffle=True)\n",
        "val_set = MTDataset(val_src_sentences_list, src_vocab_set,\n",
        "                    val_trg_sentences_list, trg_vocab_set, sampling=1.)\n",
        "val_data_loader = data.DataLoader(val_set, batch_size=batch_size, num_workers=3,\n",
        "                                  shuffle=False)"
      ],
      "execution_count": 35,
      "outputs": []
    },
    {
      "cell_type": "code",
      "metadata": {
        "id": "sIrMBzl7HswK"
      },
      "source": [
        "import math\n",
        "\n",
        "\n",
        "class SimpleLossCompute:\n",
        "  \"\"\"A simple loss compute and train function.\"\"\"\n",
        "\n",
        "  def __init__(self, generator, criterion, opt=None):\n",
        "    self.generator = generator\n",
        "    self.criterion = criterion\n",
        "    self.opt = opt\n",
        "\n",
        "  def __call__(self, x, y, norm):\n",
        "    x = self.generator(x)\n",
        "    loss = self.criterion(x.contiguous().view(-1, x.size(-1)),\n",
        "                          y.contiguous().view(-1))\n",
        "    loss = loss / norm\n",
        "\n",
        "    if self.opt is not None:  # training mode\n",
        "      loss.backward()          \n",
        "      self.opt.step()\n",
        "      self.opt.zero_grad()\n",
        "\n",
        "    return loss.data.item()*norm\n",
        "loss_fct =[]\n",
        "def run_epoch(data_loader, model, loss_compute, print_every):\n",
        "  \"\"\"Standard Training and Logging Function\"\"\"\n",
        "\n",
        "  total_tokens = 0\n",
        "  total_loss = 0\n",
        "\n",
        "  for i, (src_ids_BxT, src_lengths_B, trg_ids_BxL, trg_lengths_B) in enumerate(data_loader):\n",
        "\n",
        "    src_ids_BxT = src_ids_BxT.to(device)\n",
        "    src_lengths_B = src_lengths_B.to(device)\n",
        "    trg_ids_BxL = trg_ids_BxL.to(device)\n",
        "\n",
        "    del trg_lengths_B   # unused\n",
        "\n",
        "    _, output = model(src_ids_BxT, trg_ids_BxL, src_lengths_B)\n",
        "\n",
        "    loss = loss_compute(x=output, y=trg_ids_BxL[:, 1:],\n",
        "                        norm=src_ids_BxT.size(0))\n",
        "    total_loss += loss\n",
        "    total_tokens += (trg_ids_BxL[:, 1:] != PAD_INDEX).data.sum().item()\n",
        "\n",
        "    if model.training and i % print_every == 0:\n",
        "      print(\"Epoch Step: %d Loss: %f\" % (i, loss / src_ids_BxT.size(0)))\n",
        "      loss_fct.append(loss / src_ids_BxT.size(0))\n",
        "\n",
        "  return  loss/src_ids_BxT.size(0), math.exp(total_loss / float(total_tokens))\n",
        "\n",
        "\n",
        "def train(model, num_epochs, learning_rate, print_every):\n",
        "  criterion = nn.NLLLoss(reduction=\"sum\", ignore_index=PAD_INDEX)\n",
        "  optim = torch.optim.Adam(model.parameters(), lr=learning_rate)\n",
        "\n",
        "  # Keep track of dev ppl for each epoch.\n",
        "  dev_ppls = []\n",
        "  losses =[]\n",
        "\n",
        "  for epoch in range(num_epochs):\n",
        "    print(\"Epoch\", epoch)\n",
        "\n",
        "    model.train()\n",
        "    loss, train_ppl = run_epoch(data_loader=train_data_loader, model=model,\n",
        "                          loss_compute=SimpleLossCompute(model.generator,\n",
        "                                                         criterion, optim),\n",
        "                          print_every=print_every)\n",
        "        \n",
        "    model.eval()\n",
        "    with torch.no_grad():      \n",
        "      loss, dev_ppl = run_epoch(data_loader=val_data_loader, model=model,\n",
        "                          loss_compute=SimpleLossCompute(model.generator,\n",
        "                                                         criterion, None),\n",
        "                          print_every=print_every)\n",
        "      print(\"Validation perplexity: %f\" % dev_ppl)\n",
        "      dev_ppls.append(dev_ppl)\n",
        "      losses.append(loss)\n",
        "        \n",
        "  return  dev_ppls"
      ],
      "execution_count": 36,
      "outputs": []
    },
    {
      "cell_type": "markdown",
      "metadata": {
        "id": "GKJI-SpsHPTY"
      },
      "source": [
        "### EncoderDecoder Training"
      ]
    },
    {
      "cell_type": "code",
      "metadata": {
        "id": "ntwQRFWe7-CA"
      },
      "source": [
        "# Hyperparameters for contructing the encoder-decoder model.\n",
        "embed_size = 300   \n",
        "hidden_size = 256  \n",
        "dropout = 0.3\n",
        "\n",
        "pure_seq2seq = EncoderDecoder(\n",
        "    encoder=Encoder(embed_size, hidden_size, dropout=dropout),\n",
        "    decoder=Decoder(embed_size, hidden_size, dropout=dropout),\n",
        "    src_embed=nn.Embedding(len(src_vocab_set), embed_size),\n",
        "    trg_embed=nn.Embedding(len(trg_vocab_set), embed_size),\n",
        "    generator=Generator(hidden_size, len(trg_vocab_set))).to(device)\n",
        "\n",
        "train_model = True\n",
        "if train_model:\n",
        "  losses, pure_dev_ppls = train(pure_seq2seq, num_epochs= 10, learning_rate=1e-3, print_every=500)\n",
        "  torch.save(pure_seq2seq.state_dict(), MODEL_FOLDER+\"/\" + \"pure_seq2seq.pt\")\n",
        "else:\n",
        "  pure_seq2seq.load_state_dict(torch.load(MODEL_FOLDER+\"/\" + \"pure_seq2seq.pt\"))"
      ],
      "execution_count": null,
      "outputs": []
    },
    {
      "cell_type": "code",
      "metadata": {
        "id": "-USDXtE_5fVJ"
      },
      "source": [
        "path = \"/content/drive/My Drive/6864_project/van_seqseq.pth\"\n",
        "#load trained model or save a new model\n",
        "pure_seq2seq = torch.load(path)\n",
        "#torch.save(pure_seq2seq, path)"
      ],
      "execution_count": 39,
      "outputs": []
    },
    {
      "cell_type": "markdown",
      "metadata": {
        "id": "WlAJiAeuH-H4"
      },
      "source": [
        "Decoding\n"
      ]
    },
    {
      "cell_type": "code",
      "metadata": {
        "id": "pPAdZCwbsFJV"
      },
      "source": [
        "def greedy_decode(model, src_ids, src_lengths, max_len):\n",
        "\n",
        "  with torch.no_grad():\n",
        "    _, encoder_finals = model.encode(src_ids, src_lengths)\n",
        "    prev_y = torch.ones(1, 1).fill_(SOS_INDEX).type_as(src_ids)\n",
        "\n",
        "  output = []\n",
        "  hidden = None\n",
        "  \n",
        "  for i in range(max_len):\n",
        "    with torch.no_grad():\n",
        "      hidden, outputs = model.decode(encoder_finals, prev_y, hidden)\n",
        "      prob = model.generator(outputs[:, -1])\n",
        "    d, next_word = torch.max(prob, dim=1)\n",
        "    next_word = next_word.data.item()\n",
        "    output.append(next_word)\n",
        "    prev_y = torch.ones(1, 1).type_as(src_ids).fill_(next_word)\n",
        "\n",
        "  output = np.array(output)\n",
        "\n",
        "  # Cut off everything starting from </s>.\n",
        "  first_eos = np.where(output == EOS_INDEX)[0]\n",
        "  if len(first_eos) > 0:\n",
        "    output = output[:first_eos[0]]\n",
        "  return output"
      ],
      "execution_count": 91,
      "outputs": []
    },
    {
      "cell_type": "code",
      "metadata": {
        "id": "7KK3XV1iDnoX"
      },
      "source": [
        "def beam_decode(model, src_ids, src_lengths, max_len):\n",
        "\n",
        "  with torch.no_grad():\n",
        "    _, encoder_finals = model.encode(src_ids, src_lengths)\n",
        "    prev_y = torch.ones(1, 1).fill_(SOS_INDEX).type_as(src_ids)\n",
        "\n",
        "  output = []\n",
        "  hidden = None\n",
        "  for i in range(max_len):\n",
        "    with torch.no_grad():\n",
        "      hidden, outputs = model.decode(encoder_finals, prev_y, hidden)\n",
        "      prob = model.generator(outputs[:, -1])\n",
        "    d, next_word = torch.max(prob, dim=1)\n",
        "    next_word = next_word.data.item()\n",
        "    output.append(next_word)\n",
        "    prev_y = torch.ones(1, 1).type_as(src_ids).fill_(next_word)\n",
        "\n",
        "  output = np.array(output)\n",
        "\n",
        "  # Cut off everything starting from </s>.\n",
        "  first_eos = np.where(output == EOS_INDEX)[0]\n",
        "  if len(first_eos) > 0:\n",
        "    output = output[:first_eos[0]]\n",
        "  return output"
      ],
      "execution_count": null,
      "outputs": []
    },
    {
      "cell_type": "code",
      "metadata": {
        "id": "jdqZeB2VKl6T"
      },
      "source": [
        "def print_examples(model, src_vocab_set, trg_vocab_set, data_loader, decoder, \n",
        "                   with_attention=False, n=3, EOS_INDEX=3, max_len=MAX_SENT_LENGTH_PLUS_SOS_EOS):\n",
        "  \"\"\"Prints `n` examples. Assumes batch size of 1.\"\"\"\n",
        "\n",
        "  model.eval()\n",
        "\n",
        "  for i, (src_ids, src_lengths, trg_ids, _) in enumerate(data_loader):\n",
        "    if not with_attention:\n",
        "      result = decoder(model, src_ids.to(device), src_lengths.to(device),\n",
        "                             max_len=max_len)\n",
        "    else:\n",
        "      result, _ = decoder(model, src_ids.to(device),\n",
        "                                          src_lengths.to(device),\n",
        "                                          max_len=max_len)\n",
        "\n",
        "    # remove <s>\n",
        "    src_ids = src_ids[0, 1:]\n",
        "    trg_ids = trg_ids[0, 1:]\n",
        "    # remove </s> and <pad>\n",
        "    src_ids = src_ids[:np.where(src_ids == EOS_INDEX)[0][0]]\n",
        "    trg_ids = trg_ids[:np.where(trg_ids == EOS_INDEX)[0][0]]\n",
        "  \n",
        "    print(\"Example #%d\" % (i + 1))\n",
        "    print(\"Src : \", \" \".join(lookup_words(src_ids, vocab=src_vocab_set)))\n",
        "    print(\"Trg : \", \" \".join(lookup_words(trg_ids, vocab=trg_vocab_set)))\n",
        "    print(\"Pred: \", \" \".join(lookup_words(result, vocab=trg_vocab_set)))\n",
        "    print()\n",
        "\n",
        "    if i == n - 1:\n",
        "      break"
      ],
      "execution_count": 92,
      "outputs": []
    },
    {
      "cell_type": "code",
      "metadata": {
        "colab": {
          "base_uri": "https://localhost:8080/"
        },
        "id": "kTf85UwmJlWA",
        "outputId": "1a289d9c-5933-4510-857d-564e93ab8833"
      },
      "source": [
        "example_set = MTDataset(val_src_sentences_list, src_vocab_set,\n",
        "                        val_trg_sentences_list, trg_vocab_set)\n",
        "example_data_loader = data.DataLoader(example_set, batch_size=1, num_workers=1,\n",
        "                                      shuffle=False)\n",
        "\n",
        "print(\"EncoderDecoder Results:\")\n",
        "lab_utils.print_examples(pure_seq2seq, src_vocab_set, trg_vocab_set,\n",
        "                         example_data_loader, greedy_decode, n= 10)"
      ],
      "execution_count": 93,
      "outputs": [
        {
          "output_type": "stream",
          "text": [
            "EncoderDecoder Results:\n",
            "Example #1\n",
            "Src :  polic arrest anoth teen thursday sixth suspect jail connect gang rape yearold girl northern california high school campu . jose carlo montano arrest charg feloni rape rape concert forc penetr foreign object said richmond polic lt. mark gagan . montano arrest thursday even san pablo california small town two mile citi richmond crime took place . montano held lieu . million bail accus take part polic said hour assault richmond high school campu . polic said mani peopl involv rape dimli lit back alley school anoth peopl watch without call . victim taken hospit critic condit releas wednesday . four teenag suspect arraign thursday charg connect rape . codi ray smith describ court older plead guilti charg rape foreign object rape forc . two juvenil ari abdallah moral marcel jame peter appear smith contra costa counti superior court enter plea . court describ moral younger give age peter . three juvenil wore bulletproof vest hear charg adult . fourth person manuel ortega appear separ without attorney enter plea . wear protect vest . anoth person salvador rodriguez arrest tuesday night court thursday .\n",
            "Trg :  anoth arrest made gang rape outsid california school . investig say peopl took part stood watch assault . four suspect appear court thursday three wore bulletproof vest .\n",
            "Pred:  herd alert wavi dorschner energysav riecken dorrin stadia miscarri dachshund piotr cuisin stadia\n",
            "\n",
            "Example #2\n",
            "Src :  seven world entertain airport . boe final batteri test dreamlin . faa delay closur control tower .\n",
            "Trg :  hawaiian airlin land no . ontim perform . airlin qualiti rank report look largest u.s. airlin . expressjet american airlin worst ontim perform . virgin america best baggag handl southwest lowest complaint rate .\n",
            "Pred:  puttin mauri paranavitana laviani strand start watersid nonurg rfi stadia\n",
            "\n",
            "Example #3\n",
            "Src :  tripoli libya rebel tripoli furious hunt sign longtim libyan leader moammar gadhafi explor network tunnel bunker built beneath massiv compound . sara sidner got peek passageway friday . dub gadhafi inner sanctum . correspond cover battl tripoli walk step pitchdark tunnel use flashlight navig underworld describ massiv . far said rebel clear meter underground passag . tunnel network believ extend way citi intern airport rixo hotel . journalist two foreign nation held five day progadhafi forc . also thought extend neighborhood gadhafi forc lob shell recent toward compound taken rebel . tunnel sidner saw wide enough adult walk side side . spot golf cart easili fit corridor . sidner also saw rang sight stroll labyrinth thick wall massiv door sturdi lock . char ceil couch bed fire appar occur . piec metal shrapnel . section nato bomb fell roof cave in . anoth room contain videotap line shelf part tv studio gadhafi may record messag . it set like surviv bunker sidner said onair report . there liter citi here .\n",
            "Trg :  sara sidner see anoth world tunnel tripoli . gadhafi may record tape messag studio . rebel method search wind passag .\n",
            "Pred:  yewtre osmar mortarzavi lowspe earlier crocker sediment jfk multityp stadia puttin rudisha yemenibas fakarul wavi gervinho stadia\n",
            "\n",
            "Example #4\n",
            "Src :  german tourist critic condit shark sever right arm snorkel hawaii wednesday author said . approxim yearold woman unconsci first respond arriv taken maui medic center treatment accord lee mainaga maui fire depart . shark found new york subway car . attack took place yard offshor white rock beach maui . beach close one mile either side attack happen . offici assess thursday morn whether beach reopen . shark attack claim brazilian teen life . shark attack fourth maui year two happen day februari late juli . shark attack uptick recent year accord univers florida fatal rate unit state . discoveri channel defend dramat shark special . best place swim shark .\n",
            "Trg :  fourth shark attack maui year . took place yard offshor . offici decid thursday beach reopen .\n",
            "Pred:  herd alert nsa marathon leuenhagen sylar rightlean stadia puttin lula mate inflammatori spontan inflammatori stomach drench stadia\n",
            "\n",
            "Example #5\n",
            "Src :  fifteen peopl die consum cantaloup contamin listeria monocytogen bacteria center diseas control prevent said friday . least peopl state becom ill bacteria agenc said . number ill could still grow ad cdc cite report lag diseas develop slowli peopl . tuesday cdc report death ill alreadi deadliest foodborn ill outbreak unit state sinc . five peopl die new mexico eat taint cantaloup cdc said . three peopl die colorado two texa one kansa maryland missouri nebraska oklahoma . ill also report alabama arkansa california illinoi indiana montana north dakota virginia west virginia wisconsin wyom . need know listeria . fell ill year old cdc said . doctor also close monitor pregnanc two women ate contamin cantaloup agenc note listeriosi caus miscarriag stillbirth . older adult peopl compromis immun system also especi suscept . public health investig trace sourc bacteria farm granada colorado . food poison . grower jensen farm issu recal rocki fordbrand cantaloup septemb . now cantaloup store shelv cdc said . agenc warn peopl eat rocki ford cantaloup even eaten part one yet fallen ill. also said consum wari eat cantaloup know came from . keep food safe .\n",
            "Trg :  contamin cantaloup caus ill state cdc say . addit death total peopl fallen ill agenc say . fruit thought taint listeria monocytogen bacteria . coloradobas jensen farm recal cantaloup .\n",
            "Pred:  seba contempor anbar naypidaw throwback stadia rainer towboat whoop return kobani closeair warmiss stadia\n",
            "\n",
            "Example #6\n",
            "Src :  chri meloni book first postsvu gig bloodi good one . former star dick wolf drama join hbo true blood season ancient power vampir hold fate bill eric hand . seri regular . meloni role alan ball drama mark homecom sort actor previous play chri keller pay cabler gritti drama oz . earlier year meloni decid step play detect elliot stabler longrun nbc drama . see full articl ew.com . click tri risk free issu entertain weekli . entertain weekli time inc. right reserv .\n",
            "Trg :  christoph meloni join hbo true blood season . play ancient power vampir hold fate bill eric hand actor previous play chri keller pay cabler gritti drama oz\n",
            "Pred:  demjanjuk immin secondbest intim lingo aw stadia macintosh exclud nsa stadia\n",
            "\n",
            "Example #7\n",
            "Src :  if car park harvard yard rockin school offici may soon come knockin hankypanki student faculti elit univers offici ban . specif school adopt new polici week prohibit romant relationship undergradu professor . previou polici professor student taught . harvard releas statement say special appoint committe determin exist languag relationship unequ statu explicitli reflect faculti expect constitut appropri relationship undergradu student faculti member ... therefor committe revis polici includ clear prohibit better accord expect . action come nearli year u.s. depart educ announc investig colleg univers includ harvard violat pertain titl ix feder law prohibit sex discrimin colleg campus . harvard respond time say appoint first ever titl ix offic school presid recent announc creation universitywid task forc compos faculti student staff recommend better prevent sexual misconduct harvard . new polici result a formal process review harvard univers titl ix polici school said .\n",
            "Trg :  harvard ban romant relationship professor student . polici come heel investig titl ix violat .\n",
            "Pred:  muller ecosystem masipa outpour inquiri deadey speight stadia sunnirul pier yewtre osmar mortarzavi asianamerican hallgrimskirkja testfir stadia\n",
            "\n",
            "Example #8\n",
            "Src :  libyan deputi foreign minist abdelati obeidi flew greec sunday deliv person messag libyan leader moammar gadhafi greek foreign ministri offici told . libya ask greec allow special envoy travel commun messag greek foreign ministri spokesman grigori delavekoura said . natur messag immedi known . obeidi met greek prime minist georg papandr sunday night accord greek foreign minist dimitri droutsa . we stress reiter clear messag intern commun . one full support implement decis unit nation immedi ceasefir end violenc particularli libyan civilian droutsa said meet . from libyan envoy said clear administr look solut ad . obeidi expect continu talk turkey malta accord droutsa . envoy cross libyan border tunisia sunday morn board privat greek plane athen . obeidi libyan deputi foreign minist charg european affair . journalist houda zaghdoudi elinda labropoul contribut report .\n",
            "Trg :  new libya deputi foreign minist european affair meet greek prime minist . new envoy expect continu talk turkey malta greek offici say . it clear administr look solut\n",
            "Pred:  offpeak sudanes naypidaw eglin naypidaw eglin stadia parti ervan proofoflif precedentset pst stadia\n",
            "\n",
            "Example #9\n",
            "Src :  hong kong thousand peopl fill hong kong victoria park saturday mark nd anniversari bloodi crackdown prodemocraci protest tiananmen squar . candlelight vigil come recent effort chines govern quash wouldb demonstr hold antigovern protest . peopl arrest februari march accord hong kongbas human right group anonym group began internet campaign call antigovern protest china similar one taken hold middl east . respons campaign author deploy heavi secur along major thoroughfar especi wangfuj busi shop street downtown beij design onlin group protest . govern also tighten rule foreign report explicitli warn risk detent suspens press card expuls show plan demonstr . year on tiananmen rememb . saturday protest annual event organ hong kong allianc prodemocraci group . hong kong polic call peac gather . imag demonstr show sea flicker candl cover length park . littl year ago student gather tiananmen squar memori recent deceas hu yaobang . fire communist parti chief deng xiaop push polici deem soft toward bourgeoisliber idea toler student protest . april memori quickli turn prodemocraci movement student held talk govern later hunger strike tiananmen squar press caus . june chines troop armor personnel carrier tank rumbl toward tiananmen squar . soldier strict order clear squar demonstr forc way citi main thoroughfar . along way met fierc resist student citi resid barricad street fire them . fire stop hundr thousand peopl lay maim dead . rel victim renew hope everi year beij leader revers verdict protest counterrevolutionari rebellion put down . aliza kassim contribut report .\n",
            "Trg :  protest converg hong kong victoria park candlelight vigil . nd anniversari bloodi crackdown prodemocraci protest . vigil held recent effort quash antigovern demonstr .\n",
            "Pred:  hundr sudanes earlier beverli leadership lifetim stadia\n",
            "\n",
            "Example #10\n",
            "Src :  barack obama make case nation take fight isi top diplomat also tri make sure america go alon . u.s. secretari state john kerri sweep middl east tri convinc region leader back america plan beat back terror group seiz larg chunk territori stretch northern syria central iraq alarm pace recent month . them .\n",
            "Trg :  barack obama make case nation increas militari action isi . john kerri middl east tri get region leader board . germani uk franc offer assist russia wari potenti u.s. strike syria .\n",
            "Pred:  demjanjuk with flatten phillip cavil aberr sporad stadia alam rohingya stricken cavil ek nusoor bangladeshimad villefranch stadia\n",
            "\n"
          ],
          "name": "stdout"
        }
      ]
    },
    {
      "cell_type": "markdown",
      "metadata": {
        "id": "4ji_jPyNIJrN"
      },
      "source": [
        "Testing\n",
        "Compute the BLEU score on the test set."
      ]
    },
    {
      "cell_type": "code",
      "metadata": {
        "id": "C5q6hAcKILyW"
      },
      "source": [
        "import sacrebleu\n",
        "from rouge_score import rouge_scorer\n",
        "from tqdm import tqdm\n",
        "from rouge_score import rouge_scorer\n",
        "rscorer1 = rouge_scorer.RougeScorer(['rouge1'],use_stemmer=True)\n",
        "rscorer2 = rouge_scorer.RougeScorer(['rouge2'],use_stemmer=True)\n",
        "\n",
        "def compute_metric(model, data_loader, decoder, trg_vocab_set ):\n",
        "\n",
        "  bleu_score = []\n",
        "  r_score1 =[]\n",
        "  r_score2 =[]\n",
        "\n",
        "  model.eval()\n",
        "  for src_ids, src_lengths, trg_ids, _ in tqdm(data_loader):\n",
        "    result = decoder(model, src_ids.to(device), src_lengths.to(device),\n",
        "                         max_len=MAX_SENT_LENGTH_PLUS_SOS_EOS)\n",
        "    \n",
        "    # remove <s>\n",
        "    src_ids = src_ids[0, 1:]\n",
        "    trg_ids = trg_ids[0, 1:]\n",
        "    # remove </s> and <pad>\n",
        "    src_ids = src_ids[:np.where(src_ids == EOS_INDEX)[0][0]]\n",
        "    trg_ids = trg_ids[:np.where(trg_ids == EOS_INDEX)[0][0]]\n",
        "\n",
        "    pred = \" \".join(lab_utils.lookup_words(result, vocab=trg_vocab_set))\n",
        "    targ = \" \".join(lab_utils.lookup_words(trg_ids, vocab=trg_vocab_set))\n",
        "    #print(\"target\",targ)\n",
        "    #print(\"prediction\", pred)\n",
        "\n",
        "    bleu_score.append(sacrebleu.raw_corpus_bleu([pred], [[targ]], .01).score)\n",
        "    r_score1.append(rscorer1.score(pred, targ)['rouge1'].fmeasure)\n",
        "    r_score2.append(rscorer2.score(pred, targ)['rouge2'].fmeasure)\n",
        "  return {\"BLEU\" : np.mean(bleu_score),\"ROUGE-1 F score\": np.mean(r_score1), \"ROUGE-2 F score\": np.mean(r_score2) }\n"
      ],
      "execution_count": 84,
      "outputs": []
    },
    {
      "cell_type": "code",
      "metadata": {
        "colab": {
          "base_uri": "https://localhost:8080/"
        },
        "id": "HzWX1kn7VcjP",
        "outputId": "bd9a8c8c-64e1-4e6c-d562-869254079b22"
      },
      "source": [
        "rscorer2.score(\"a cat sits on the floor behh mouse tee-shirt\", \"cat t-shirt on the floor\")"
      ],
      "execution_count": 46,
      "outputs": [
        {
          "output_type": "execute_result",
          "data": {
            "text/plain": [
              "{'rouge2': Score(precision=0.4, recall=0.2222222222222222, fmeasure=0.2857142857142857)}"
            ]
          },
          "metadata": {
            "tags": []
          },
          "execution_count": 46
        }
      ]
    },
    {
      "cell_type": "code",
      "metadata": {
        "colab": {
          "base_uri": "https://localhost:8080/"
        },
        "id": "b8HGDKOe1XgO",
        "outputId": "eb830455-1eef-49ac-81d1-f07690b9249d"
      },
      "source": [
        "test_set = MTDataset(test_src_sentences_list, src_vocab_set,\n",
        "                     test_trg_sentences_list, trg_vocab_set, sampling= 1.)\n",
        "test_data_loader = data.DataLoader(test_set, batch_size=1, num_workers=8,\n",
        "                                   shuffle=False)\n",
        "\n",
        "print( ((compute_metric(pure_seq2seq, test_data_loader,greedy_decode, trg_vocab_set))))"
      ],
      "execution_count": 58,
      "outputs": [
        {
          "output_type": "stream",
          "text": [
            "/usr/local/lib/python3.7/dist-packages/torch/utils/data/dataloader.py:477: UserWarning: This DataLoader will create 8 worker processes in total. Our suggested max number of worker in current system is 4, which is smaller than what this DataLoader is going to create. Please be aware that excessive worker creation might get DataLoader running slow or even freeze, lower the worker number to avoid potential slowness/freeze if necessary.\n",
            "  cpuset_checked))\n",
            "100%|██████████| 198/198 [00:58<00:00,  3.41it/s]"
          ],
          "name": "stderr"
        },
        {
          "output_type": "stream",
          "text": [
            "{'BLEU': 0.05987177536655849, 'ROUGE-1 F score': 0.0003741114852225963, 'ROUGE-2 F score': 0.0}\n"
          ],
          "name": "stdout"
        },
        {
          "output_type": "stream",
          "text": [
            "\n"
          ],
          "name": "stderr"
        }
      ]
    },
    {
      "cell_type": "code",
      "metadata": {
        "id": "P8khoEvsjH20"
      },
      "source": [
        "#Luong Attention"
      ],
      "execution_count": null,
      "outputs": []
    },
    {
      "cell_type": "code",
      "metadata": {
        "id": "tvaYz1ZxjJxS"
      },
      "source": [
        "class LuongAttention(nn.Module):\n",
        "  \"\"\" Luong Attention\"\"\"\n",
        "\n",
        "  def __init__(self, hidden_size):\n",
        "    super(LuongAttention, self).__init__()\n",
        "\n",
        "    self.score_weights = nn.Parameter(torch.Tensor(hidden_size, hidden_size))\n",
        "    self.attn_softmax = nn.Softmax(dim=-1)\n",
        "    self.concat = nn.Linear(hidden_size * 2, hidden_size)\n",
        "    self.out = nn.Tanh()\n",
        "    self.reset_parameters()\n",
        "  \n",
        "  def reset_parameters(self):\n",
        "    nn.init.kaiming_uniform_(self.score_weights, a=math.sqrt(5))  \n",
        "\n",
        "  def forward(self, encoder_outputs, decoder_outputs, src_mask=None, trg_mask=None):\n",
        "\n",
        "    max_len = decoder_outputs.size(1)\n",
        "    scores = torch.bmm(decoder_outputs@self.score_weights, torch.transpose(encoder_outputs, 1, 2))\n",
        "    if src_mask is not None:\n",
        "      attn_mask = src_mask.expand(-1, max_len, -1)\n",
        "      scores = scores + torch.log(attn_mask)\n",
        "    attn_weights = self.attn_softmax(scores)\n",
        "    context = torch.bmm(attn_weights, encoder_outputs)  \n",
        "    attn_hidden = self.out(self.concat(torch.cat((decoder_outputs, context), dim=-1)))\n",
        "    return attn_hidden"
      ],
      "execution_count": 67,
      "outputs": []
    },
    {
      "cell_type": "code",
      "metadata": {
        "id": "DyuLGLEVjNdX"
      },
      "source": [
        "class AttentionDecoder(nn.Module):\n",
        "\n",
        "  def __init__(self, input_size, hidden_size, attention=None, dropout=0.0, num_layers=1, num_enc_layers=None):\n",
        "\n",
        "    super(AttentionDecoder, self).__init__()\n",
        "\n",
        "    self.input_size = input_size\n",
        "    self.hidden_size = hidden_size\n",
        "    self.attention = attention\n",
        "    self.dropout = dropout\n",
        "    self.num_layers = num_layers\n",
        "    self.num_enc_layers = num_enc_layers\n",
        "    if num_enc_layers is not None:\n",
        "      self.hidden_initializer = nn.Linear(num_enc_layers * hidden_size, num_layers * hidden_size)\n",
        "    else:\n",
        "      self.hidden_initializer = None\n",
        "\n",
        "    self.rnn = nn.GRU(input_size, hidden_size, num_layers=num_layers, batch_first=True,\n",
        "                      dropout=dropout, bidirectional=False)\n",
        "\n",
        "    \n",
        "  def forward(self, inputs, encoder_hiddens, encoder_finals, src_mask,\n",
        "              trg_mask, hidden=None, max_len=None):\n",
        " \n",
        "    if self.num_enc_layers is not None:\n",
        "      assert encoder_finals.size(0) == self.num_enc_layers, \\\n",
        "        'Decoder expected {} layer, but encoder_finals has {} layers.'.format(self.num_enc_layers, encoder_finals.size(0))\n",
        "    else:\n",
        "      assert encoder_finals.size(0) == self.num_layers, \\\n",
        "        'Decoder expected same number of layers, but encoder_finals has {} layers.'.format(self.num_layers, encoder_finals.size(0))\n",
        "\n",
        "    if max_len is None:\n",
        "      max_len = inputs.size(1)\n",
        "\n",
        "    if hidden is None:\n",
        "      hidden = self.init_hidden(encoder_finals)\n",
        "\n",
        "    outputs = None \n",
        "    decoder_hiddens, hidden = self.rnn(inputs, hidden)\n",
        "    if self.attention is not None:\n",
        "      outputs = self.attention(encoder_hiddens, decoder_hiddens, src_mask, trg_mask)\n",
        "    else:\n",
        "      outputs = decoder_hiddens\n",
        "\n",
        "    return hidden, outputs\n",
        "\n",
        "  def init_hidden(self, encoder_finals):\n",
        "    if self.hidden_initializer is None:\n",
        "      decoder_init_hiddens = encoder_finals\n",
        "    else:\n",
        "      finals_by_layer = tuple(encoder_finals)\n",
        "      finals_batch = torch.cat(finals_by_layer, dim=-1)  \n",
        "      out = self.hidden_initializer(finals_batch)  \n",
        "      decoder_init_hiddens = torch.stack(torch.chunk(out, self.num_layers, dim=-1))\n",
        "\n",
        "    return decoder_init_hiddens"
      ],
      "execution_count": 68,
      "outputs": []
    },
    {
      "cell_type": "code",
      "metadata": {
        "id": "xUj-IlAjjS_F"
      },
      "source": [
        "class EncoderAttentionDecoder(nn.Module):\n",
        "\n",
        "  def __init__(self, encoder, decoder, src_embed , trg_embed, generator):\n",
        "\n",
        "    super(EncoderAttentionDecoder, self).__init__()\n",
        "\n",
        "    self.encoder = encoder\n",
        "    self.decoder = decoder\n",
        "    self.src_embed = src_embed\n",
        "    self.trg_embed = trg_embed\n",
        "    self.generator = generator\n",
        "\n",
        "  def forward(self, src_ids, trg_ids, src_lengths):\n",
        "\n",
        "    trg_id_inputs = trg_ids[:, :-1]  \n",
        "    src_mask = torch.where(src_ids == PAD_INDEX, torch.zeros(src_ids.size()).to(device), torch.ones(src_ids.size()).to(device))\n",
        "    src_mask.unsqueeze_(1)\n",
        "    trg_mask = torch.where(trg_id_inputs == PAD_INDEX, torch.zeros(trg_id_inputs.size()).to(device), torch.ones(trg_id_inputs.size()).to(device))\n",
        "    trg_mask.unsqueeze_(1)\n",
        "    encoder_hiddens, encoder_finals = self.encode(src_ids, src_lengths)\n",
        "    return self.decode(trg_id_inputs, encoder_finals, encoder_hiddens, src_mask, trg_mask)\n",
        "\n",
        "  def encode(self, src_ids, src_lengths):\n",
        "    return self.encoder(self.src_embed(src_ids), src_lengths)\n",
        "    \n",
        "  def decode(self, trg_id_inputs, encoder_finals, encoder_hiddens, src_mask=None, trg_mask=None, decoder_hidden=None):\n",
        "    return self.decoder(self.trg_embed(trg_id_inputs), encoder_hiddens, encoder_finals, src_mask, trg_mask, hidden=decoder_hidden)"
      ],
      "execution_count": 69,
      "outputs": []
    },
    {
      "cell_type": "code",
      "metadata": {
        "id": "M37fAXXKjXSh"
      },
      "source": [
        "embed_size = 256\n",
        "hidden_size = 256  \n",
        "dropout = 0.3"
      ],
      "execution_count": 73,
      "outputs": []
    },
    {
      "cell_type": "code",
      "metadata": {
        "id": "AXGiXdJKoBch"
      },
      "source": [
        "attention_seq2seq = EncoderAttentionDecoder(\n",
        "  encoder=Encoder(embed_size, hidden_size, dropout=dropout),\n",
        "  decoder=AttentionDecoder(embed_size, hidden_size,\n",
        "                  attention=LuongAttention(hidden_size), dropout=dropout),\n",
        "  src_embed=nn.Embedding(len(src_vocab_set), embed_size),\n",
        "  trg_embed=nn.Embedding(len(trg_vocab_set), embed_size),\n",
        "  generator=Generator(hidden_size, len(trg_vocab_set))).to(device)\n"
      ],
      "execution_count": null,
      "outputs": []
    },
    {
      "cell_type": "code",
      "metadata": {
        "id": "kjH6JjFFpiv_"
      },
      "source": [
        "path = \"/content/drive/My Drive/6864_project/attention_seqseq.pth\"\n",
        "#load trained model or save a new model\n",
        "attention_seq2seq = torch.load(path)\n",
        "#torch.save(attention_seq2seq, path)"
      ],
      "execution_count": 75,
      "outputs": []
    },
    {
      "cell_type": "code",
      "metadata": {
        "id": "Kh8J8xvIwiaB"
      },
      "source": [
        "def greedy_decode(model, src_ids, src_lengths, max_len):\n",
        "\n",
        "  with torch.no_grad():\n",
        "    encoder_hiddens, encoder_finals = model.encode(src_ids, src_lengths)\n",
        "    prev_y = torch.ones(1, 1).fill_(SOS_INDEX).type_as(src_ids)\n",
        "\n",
        "  output = []\n",
        "  hidden = None\n",
        "  src_mask = torch.where(src_ids == PAD_INDEX, torch.zeros(src_ids.size()).to(device), torch.ones(src_ids.size()).to(device))\n",
        "  src_mask.unsqueeze_(1)\n",
        "\n",
        "  for i in range(max_len):\n",
        "    with torch.no_grad():\n",
        "      hidden, outputs = model.decode(prev_y, encoder_finals, encoder_hiddens, src_mask=src_mask, decoder_hidden=hidden)\n",
        "      prob = model.generator(outputs[:, -1])\n",
        "\n",
        "    _, next_word = torch.max(prob, dim=1)\n",
        "    next_word = next_word.data.item()\n",
        "    output.append(next_word)\n",
        "    prev_y = torch.ones(1, 1).type_as(src_ids).fill_(next_word)\n",
        "\n",
        "  output = np.array(output)\n",
        "\n",
        "  first_eos = np.where(output == EOS_INDEX)[0]\n",
        "  if len(first_eos) > 0:\n",
        "    output = output[:first_eos[0]]\n",
        "  return output\n",
        "  \n",
        "\n",
        "def lookup_words(x, vocab):\n",
        "  return [vocab[i] for i in x]"
      ],
      "execution_count": 79,
      "outputs": []
    },
    {
      "cell_type": "code",
      "metadata": {
        "id": "G3wpi65BwQHg"
      },
      "source": [
        "def print_examples(model, data_loader, n=10,\n",
        "                   max_len=402, \n",
        "                   src_vocab_set=src_vocab_set, trg_vocab_set=trg_vocab_set):\n",
        "  \"\"\"Prints `n` examples. Assumes batch size of 1.\"\"\"\n",
        "\n",
        "  model.eval()\n",
        "\n",
        "  for i, (src_ids, src_lengths, trg_ids, _) in enumerate(data_loader):\n",
        "    result = greedy_decode(model, src_ids.to(device), src_lengths.to(device),\n",
        "                           max_len=max_len)\n",
        "    src_ids = src_ids[0, 1:]\n",
        "    trg_ids = trg_ids[0, 1:]\n",
        "    src_ids = src_ids[:np.where(src_ids == EOS_INDEX)[0][0]]\n",
        "    trg_ids = trg_ids[:np.where(trg_ids == EOS_INDEX)[0][0]]\n",
        "\n",
        "    print(\"Example #%d\" % (i + 1))\n",
        "    print(\"Src : \", \" \".join(lookup_words(src_ids, vocab=src_vocab_set)))\n",
        "    print(\"Trg : \", \" \".join(lookup_words(trg_ids, vocab=trg_vocab_set)))\n",
        "    print(\"Pred: \", \" \".join(lookup_words(result, vocab=trg_vocab_set)))\n",
        "    print()\n",
        "\n",
        "    if i == n - 1:\n",
        "      break"
      ],
      "execution_count": 81,
      "outputs": []
    },
    {
      "cell_type": "code",
      "metadata": {
        "colab": {
          "base_uri": "https://localhost:8080/"
        },
        "id": "ZqmZYZb6jrT1",
        "outputId": "b0ed976f-6cfa-4e03-9fca-55e893e3aa17"
      },
      "source": [
        "test_set = MTDataset(test_src_sentences_list, src_vocab_set,\n",
        "                     test_trg_sentences_list, trg_vocab_set, sampling= 1.)\n",
        "test_data_loader = data.DataLoader(test_set, batch_size=1, num_workers=8,\n",
        "                                   shuffle=False)\n",
        "\n",
        "\n",
        "\n",
        "print_examples(attention_seq2seq, test_data_loader)"
      ],
      "execution_count": 88,
      "outputs": [
        {
          "output_type": "stream",
          "text": [
            "/usr/local/lib/python3.7/dist-packages/torch/utils/data/dataloader.py:477: UserWarning: This DataLoader will create 8 worker processes in total. Our suggested max number of worker in current system is 4, which is smaller than what this DataLoader is going to create. Please be aware that excessive worker creation might get DataLoader running slow or even freeze, lower the worker number to avoid potential slowness/freeze if necessary.\n",
            "  cpuset_checked))\n"
          ],
          "name": "stderr"
        },
        {
          "output_type": "stream",
          "text": [
            "Example #1\n",
            "Src :  fact shelf behind work type thi besid xhtml xslt css usabl disabl refer . bookshelf document kynn.com would consid share us short list refer find help al\n",
            "Trg :  al ask kynn book collect document kynn site .\n",
            "Pred:  extrem bartlett girardi alhamdouni marussa doubl sidenet bajaur marczynski girardi hatoyama fountain shore httpwww.hwg.org bashir fiorello faulti girardi bait boxcutt fiorello palicki colbert luzon bashir fiorello faulti consider sideeffect girardi\n",
            "\n",
            "Example #2\n",
            "Src :  bookshelf document kynn.com would consid share us short list refer find help hey bad idea . fact encourag everyon els share favorit bookshelf collect relev wai activ . post mine kynn.com tomorrow back offic .\n",
            "Trg :  kynn think al good idea encourag everyon share bookshelf collect relev wai activ .\n",
            "Pred:  understat tenaci cuesta bui bayern alexi ranti girardi alhamdouni javad girardi alhamdouni javad girardi alhamdouni marussa girardi alhamdouni marussa jeb palicki girardi\n",
            "\n",
            "Example #3\n",
            "Src :  bookshelf document kynn.com would consid share us short list refer find help hey bad idea . fact encourag everyon els share favorit bookshelf collect relev wai activ . post mine kynn.com tomorrow back offic .\n",
            "Trg :  kynn say post collect tomorrow . also encourag other same relev wai .\n",
            "Pred:  understat tenaci cuesta bui bayern alexi ranti girardi alhamdouni javad girardi alhamdouni javad girardi alhamdouni marussa girardi alhamdouni marussa jeb palicki girardi\n",
            "\n",
            "Example #4\n",
            "Src :  built form submit button it . user activ button fill form correctli <unk> alert <unk> present user give inform . appear breach checkpoint . <unk> would accept provid warn messag someth like <unk> form may result <unk> dialog display submit button color background thu make text avail screen reader user sight user regard graham oliv yahoo get email domain yahoo mail . <unk>\n",
            "Trg :  graham ask accept hide text use colour make access user use screen reader .\n",
            "Pred:  cheeri write ratko videoshop linkup goingthruit girardi alhamdouni marussa barn girardi alhamdouni marussa barn girardi alhamdouni marussa doubl edict .star andrew write girardi\n",
            "\n",
            "Example #5\n",
            "Src :  built form submit button it . user activ button fill form correctli <unk> alert <unk> present user give inform . appear breach checkpoint . <unk> would accept provid warn messag someth like <unk> form may result <unk> dialog display submit button color background thu make text avail screen reader user sight user regard graham oliv yahoo get email domain yahoo mail . <unk>\n",
            "Trg :  graham say made form includ submit button . one press submit correctli complet form alert <unk> give inform . breach checkpoint .. ask whether could provid warn messag submit button color background . would make text avail screen reader user sight user .\n",
            "Pred:  cheeri write ratko videoshop linkup goingthruit girardi alhamdouni marussa barn girardi alhamdouni marussa barn girardi alhamdouni marussa doubl edict .star andrew write girardi\n",
            "\n",
            "Example #6\n",
            "Src :  built form submit button it . user activ button fill form correctli <unk> alert <unk> present user give inform . appear breach checkpoint . <unk> would accept provid warn messag someth like <unk> form may result <unk> dialog display submit button color background thu make text avail screen reader user sight user regard graham oliv yahoo get email domain yahoo mail . <unk>\n",
            "Trg :  graham comment <unk> e built form submit button form correctli fill out <unk> alert appear . feel may <unk> rule call checkpoint . ask accept provid warn messag color background make text avail screen reader regular user .\n",
            "Pred:  cheeri write ratko videoshop linkup goingthruit girardi alhamdouni marussa barn girardi alhamdouni marussa barn girardi alhamdouni marussa doubl edict .star andrew write girardi\n",
            "\n",
            "Example #7\n",
            "Src :  gt built form submit button it . gt user activ button fill form correctli <unk> alert <unk> present user give inform . gt appear breach checkpoint . gt <unk> gt would accept provid warn messag someth like <unk> form may result <unk> dialog display submit button color background gt thu make text avail screen reader user sight user show devic can not display colour understand style use set colour . known trick stuf keyword search engin may result site boycot major search engin . one expect major chang content one submit form one main reason avoid <unk> appli .\n",
            "Trg :  david warn text would access user . may also <unk> seo techniqu result bad rank search engin .\n",
            "Pred:  lymphoma jantzen shahabuddin reed randl giant doubl sidekick max girardi urinari hydrangea cutler fiorello sidenet bajaur marczynski girardi hatoyama fountain shore httpwww.hwg.org bashir fiorello faulti girardi bait boxcutt fiorello palicki colbert luzon bashir fiorello faulti consider sideeffect girardi\n",
            "\n",
            "Example #8\n",
            "Src :  gt built form submit button it . gt user activ button fill form correctli <unk> alert <unk> present user give inform . gt appear breach checkpoint . gt <unk> gt would accept provid warn messag someth like <unk> form may result <unk> dialog display submit button color background gt thu make text avail screen reader user sight user show devic can not display colour understand style use set colour . known trick stuf keyword search engin may result site boycot major search engin . one expect major chang content one submit form one main reason avoid <unk> appli .\n",
            "Trg :  david say work devic display colour incorrectli . also old trick stuf keyword search engin may get site blacklist major search engin .\n",
            "Pred:  lymphoma jantzen shahabuddin reed randl giant doubl sidekick max girardi urinari hydrangea cutler fiorello sidenet bajaur marczynski girardi hatoyama fountain shore httpwww.hwg.org bashir fiorello faulti girardi bait boxcutt fiorello palicki colbert luzon bashir fiorello faulti consider sideeffect girardi\n",
            "\n",
            "Example #9\n",
            "Src :  gt built form submit button it . gt user activ button fill form correctli <unk> alert <unk> present user give inform . gt appear breach checkpoint . gt <unk> gt would accept provid warn messag someth like <unk> form may result <unk> dialog display submit button color background gt thu make text avail screen reader user sight user show devic can not display colour understand style use set colour . known trick stuf keyword search engin may result site boycot major search engin . one expect major chang content one submit form one main reason avoid <unk> appli .\n",
            "Trg :  david comment text would show devic can not handl color comment old trick put key word search engin .\n",
            "Pred:  lymphoma jantzen shahabuddin reed randl giant doubl sidekick max girardi urinari hydrangea cutler fiorello sidenet bajaur marczynski girardi hatoyama fountain shore httpwww.hwg.org bashir fiorello faulti girardi bait boxcutt fiorello palicki colbert luzon bashir fiorello faulti consider sideeffect girardi\n",
            "\n",
            "Example #10\n",
            "Src :  also depend screen reader get content reader smart colour\n",
            "Trg :  charl mention colour hide techniqu may work screen reader .\n",
            "Pred:  ny lanni loui goingthruit stereotyp fiorello faulti parachut girardi gap lanni cutler fiorello sidenet bajaur marczynski girardi hatoyama fountain shore httpwww.hwg.org bashir fiorello faulti girardi bait boxcutt fiorello palicki colbert luzon bashir fiorello faulti consider sideeffect girardi\n",
            "\n"
          ],
          "name": "stdout"
        }
      ]
    },
    {
      "cell_type": "code",
      "metadata": {
        "colab": {
          "base_uri": "https://localhost:8080/"
        },
        "id": "2cyYjNkywpIt",
        "outputId": "8afceb29-07e5-44ef-bd47-487cb5a97569"
      },
      "source": [
        "print( ((compute_metric(attention_seq2seq, test_data_loader,greedy_decode, trg_vocab_set))))"
      ],
      "execution_count": 85,
      "outputs": [
        {
          "output_type": "stream",
          "text": [
            "\r  0%|          | 0/198 [00:00<?, ?it/s]/usr/local/lib/python3.7/dist-packages/torch/utils/data/dataloader.py:477: UserWarning: This DataLoader will create 8 worker processes in total. Our suggested max number of worker in current system is 4, which is smaller than what this DataLoader is going to create. Please be aware that excessive worker creation might get DataLoader running slow or even freeze, lower the worker number to avoid potential slowness/freeze if necessary.\n",
            "  cpuset_checked))\n",
            "100%|██████████| 198/198 [01:10<00:00,  2.81it/s]"
          ],
          "name": "stderr"
        },
        {
          "output_type": "stream",
          "text": [
            "{'BLEU': 0.06689950251326515, 'ROUGE-1 F score': 0.0008631772268135904, 'ROUGE-2 F score': 0.0}\n"
          ],
          "name": "stdout"
        },
        {
          "output_type": "stream",
          "text": [
            "\n"
          ],
          "name": "stderr"
        }
      ]
    }
  ]
}