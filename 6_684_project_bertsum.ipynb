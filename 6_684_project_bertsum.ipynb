{
  "nbformat": 4,
  "nbformat_minor": 0,
  "metadata": {
    "colab": {
      "name": "6.684_project_bertsum.ipynb",
      "provenance": [],
      "collapsed_sections": [],
      "machine_shape": "hm",
      "include_colab_link": true
    },
    "kernelspec": {
      "name": "python3",
      "display_name": "Python 3"
    },
    "language_info": {
      "name": "python"
    },
    "accelerator": "GPU",
    "widgets": {
      "application/vnd.jupyter.widget-state+json": {
        "a10054d4fc7f4e3c97e1576eb7951c11": {
          "model_module": "@jupyter-widgets/controls",
          "model_name": "HBoxModel",
          "state": {
            "_view_name": "HBoxView",
            "_dom_classes": [],
            "_model_name": "HBoxModel",
            "_view_module": "@jupyter-widgets/controls",
            "_model_module_version": "1.5.0",
            "_view_count": null,
            "_view_module_version": "1.5.0",
            "box_style": "",
            "layout": "IPY_MODEL_1634037df1ac438180a6c98093f18709",
            "_model_module": "@jupyter-widgets/controls",
            "children": [
              "IPY_MODEL_03d7d9ef9ff249768abccd46f9fdf74e",
              "IPY_MODEL_ca1cc9eb438d4fe2a5c14d3a9f459d40"
            ]
          }
        },
        "1634037df1ac438180a6c98093f18709": {
          "model_module": "@jupyter-widgets/base",
          "model_name": "LayoutModel",
          "state": {
            "_view_name": "LayoutView",
            "grid_template_rows": null,
            "right": null,
            "justify_content": null,
            "_view_module": "@jupyter-widgets/base",
            "overflow": null,
            "_model_module_version": "1.2.0",
            "_view_count": null,
            "flex_flow": null,
            "width": null,
            "min_width": null,
            "border": null,
            "align_items": null,
            "bottom": null,
            "_model_module": "@jupyter-widgets/base",
            "top": null,
            "grid_column": null,
            "overflow_y": null,
            "overflow_x": null,
            "grid_auto_flow": null,
            "grid_area": null,
            "grid_template_columns": null,
            "flex": null,
            "_model_name": "LayoutModel",
            "justify_items": null,
            "grid_row": null,
            "max_height": null,
            "align_content": null,
            "visibility": null,
            "align_self": null,
            "height": null,
            "min_height": null,
            "padding": null,
            "grid_auto_rows": null,
            "grid_gap": null,
            "max_width": null,
            "order": null,
            "_view_module_version": "1.2.0",
            "grid_template_areas": null,
            "object_position": null,
            "object_fit": null,
            "grid_auto_columns": null,
            "margin": null,
            "display": null,
            "left": null
          }
        },
        "03d7d9ef9ff249768abccd46f9fdf74e": {
          "model_module": "@jupyter-widgets/controls",
          "model_name": "FloatProgressModel",
          "state": {
            "_view_name": "ProgressView",
            "style": "IPY_MODEL_2c88e63ad3424e1b9ccf7b991131ae90",
            "_dom_classes": [],
            "description": "Downloading: 100%",
            "_model_name": "FloatProgressModel",
            "bar_style": "success",
            "max": 231508,
            "_view_module": "@jupyter-widgets/controls",
            "_model_module_version": "1.5.0",
            "value": 231508,
            "_view_count": null,
            "_view_module_version": "1.5.0",
            "orientation": "horizontal",
            "min": 0,
            "description_tooltip": null,
            "_model_module": "@jupyter-widgets/controls",
            "layout": "IPY_MODEL_9297063840154a48a03d9e1018daa828"
          }
        },
        "ca1cc9eb438d4fe2a5c14d3a9f459d40": {
          "model_module": "@jupyter-widgets/controls",
          "model_name": "HTMLModel",
          "state": {
            "_view_name": "HTMLView",
            "style": "IPY_MODEL_09450ba59b7f49f99720cdf2f3c864d4",
            "_dom_classes": [],
            "description": "",
            "_model_name": "HTMLModel",
            "placeholder": "​",
            "_view_module": "@jupyter-widgets/controls",
            "_model_module_version": "1.5.0",
            "value": " 232k/232k [00:32&lt;00:00, 7.13kB/s]",
            "_view_count": null,
            "_view_module_version": "1.5.0",
            "description_tooltip": null,
            "_model_module": "@jupyter-widgets/controls",
            "layout": "IPY_MODEL_5817bb1f505645f4afaabcfc8dfbf17a"
          }
        },
        "2c88e63ad3424e1b9ccf7b991131ae90": {
          "model_module": "@jupyter-widgets/controls",
          "model_name": "ProgressStyleModel",
          "state": {
            "_view_name": "StyleView",
            "_model_name": "ProgressStyleModel",
            "description_width": "initial",
            "_view_module": "@jupyter-widgets/base",
            "_model_module_version": "1.5.0",
            "_view_count": null,
            "_view_module_version": "1.2.0",
            "bar_color": null,
            "_model_module": "@jupyter-widgets/controls"
          }
        },
        "9297063840154a48a03d9e1018daa828": {
          "model_module": "@jupyter-widgets/base",
          "model_name": "LayoutModel",
          "state": {
            "_view_name": "LayoutView",
            "grid_template_rows": null,
            "right": null,
            "justify_content": null,
            "_view_module": "@jupyter-widgets/base",
            "overflow": null,
            "_model_module_version": "1.2.0",
            "_view_count": null,
            "flex_flow": null,
            "width": null,
            "min_width": null,
            "border": null,
            "align_items": null,
            "bottom": null,
            "_model_module": "@jupyter-widgets/base",
            "top": null,
            "grid_column": null,
            "overflow_y": null,
            "overflow_x": null,
            "grid_auto_flow": null,
            "grid_area": null,
            "grid_template_columns": null,
            "flex": null,
            "_model_name": "LayoutModel",
            "justify_items": null,
            "grid_row": null,
            "max_height": null,
            "align_content": null,
            "visibility": null,
            "align_self": null,
            "height": null,
            "min_height": null,
            "padding": null,
            "grid_auto_rows": null,
            "grid_gap": null,
            "max_width": null,
            "order": null,
            "_view_module_version": "1.2.0",
            "grid_template_areas": null,
            "object_position": null,
            "object_fit": null,
            "grid_auto_columns": null,
            "margin": null,
            "display": null,
            "left": null
          }
        },
        "09450ba59b7f49f99720cdf2f3c864d4": {
          "model_module": "@jupyter-widgets/controls",
          "model_name": "DescriptionStyleModel",
          "state": {
            "_view_name": "StyleView",
            "_model_name": "DescriptionStyleModel",
            "description_width": "",
            "_view_module": "@jupyter-widgets/base",
            "_model_module_version": "1.5.0",
            "_view_count": null,
            "_view_module_version": "1.2.0",
            "_model_module": "@jupyter-widgets/controls"
          }
        },
        "5817bb1f505645f4afaabcfc8dfbf17a": {
          "model_module": "@jupyter-widgets/base",
          "model_name": "LayoutModel",
          "state": {
            "_view_name": "LayoutView",
            "grid_template_rows": null,
            "right": null,
            "justify_content": null,
            "_view_module": "@jupyter-widgets/base",
            "overflow": null,
            "_model_module_version": "1.2.0",
            "_view_count": null,
            "flex_flow": null,
            "width": null,
            "min_width": null,
            "border": null,
            "align_items": null,
            "bottom": null,
            "_model_module": "@jupyter-widgets/base",
            "top": null,
            "grid_column": null,
            "overflow_y": null,
            "overflow_x": null,
            "grid_auto_flow": null,
            "grid_area": null,
            "grid_template_columns": null,
            "flex": null,
            "_model_name": "LayoutModel",
            "justify_items": null,
            "grid_row": null,
            "max_height": null,
            "align_content": null,
            "visibility": null,
            "align_self": null,
            "height": null,
            "min_height": null,
            "padding": null,
            "grid_auto_rows": null,
            "grid_gap": null,
            "max_width": null,
            "order": null,
            "_view_module_version": "1.2.0",
            "grid_template_areas": null,
            "object_position": null,
            "object_fit": null,
            "grid_auto_columns": null,
            "margin": null,
            "display": null,
            "left": null
          }
        },
        "09efc2113c974bfaa1ef7ec6fa29d0dd": {
          "model_module": "@jupyter-widgets/controls",
          "model_name": "HBoxModel",
          "state": {
            "_view_name": "HBoxView",
            "_dom_classes": [],
            "_model_name": "HBoxModel",
            "_view_module": "@jupyter-widgets/controls",
            "_model_module_version": "1.5.0",
            "_view_count": null,
            "_view_module_version": "1.5.0",
            "box_style": "",
            "layout": "IPY_MODEL_062316eab00143ceae32492e32d5b44b",
            "_model_module": "@jupyter-widgets/controls",
            "children": [
              "IPY_MODEL_8599d733365b4b02a0d504e4aca32316",
              "IPY_MODEL_0461aeaadebd4f2fb9b02a5d96c8f57d"
            ]
          }
        },
        "062316eab00143ceae32492e32d5b44b": {
          "model_module": "@jupyter-widgets/base",
          "model_name": "LayoutModel",
          "state": {
            "_view_name": "LayoutView",
            "grid_template_rows": null,
            "right": null,
            "justify_content": null,
            "_view_module": "@jupyter-widgets/base",
            "overflow": null,
            "_model_module_version": "1.2.0",
            "_view_count": null,
            "flex_flow": null,
            "width": null,
            "min_width": null,
            "border": null,
            "align_items": null,
            "bottom": null,
            "_model_module": "@jupyter-widgets/base",
            "top": null,
            "grid_column": null,
            "overflow_y": null,
            "overflow_x": null,
            "grid_auto_flow": null,
            "grid_area": null,
            "grid_template_columns": null,
            "flex": null,
            "_model_name": "LayoutModel",
            "justify_items": null,
            "grid_row": null,
            "max_height": null,
            "align_content": null,
            "visibility": null,
            "align_self": null,
            "height": null,
            "min_height": null,
            "padding": null,
            "grid_auto_rows": null,
            "grid_gap": null,
            "max_width": null,
            "order": null,
            "_view_module_version": "1.2.0",
            "grid_template_areas": null,
            "object_position": null,
            "object_fit": null,
            "grid_auto_columns": null,
            "margin": null,
            "display": null,
            "left": null
          }
        },
        "8599d733365b4b02a0d504e4aca32316": {
          "model_module": "@jupyter-widgets/controls",
          "model_name": "FloatProgressModel",
          "state": {
            "_view_name": "ProgressView",
            "style": "IPY_MODEL_adc1b816b8db48b9bfd6a626fe59a0fd",
            "_dom_classes": [],
            "description": "Downloading: 100%",
            "_model_name": "FloatProgressModel",
            "bar_style": "success",
            "max": 466062,
            "_view_module": "@jupyter-widgets/controls",
            "_model_module_version": "1.5.0",
            "value": 466062,
            "_view_count": null,
            "_view_module_version": "1.5.0",
            "orientation": "horizontal",
            "min": 0,
            "description_tooltip": null,
            "_model_module": "@jupyter-widgets/controls",
            "layout": "IPY_MODEL_a8ef9a3f99f745a388dcd28acb8ad48f"
          }
        },
        "0461aeaadebd4f2fb9b02a5d96c8f57d": {
          "model_module": "@jupyter-widgets/controls",
          "model_name": "HTMLModel",
          "state": {
            "_view_name": "HTMLView",
            "style": "IPY_MODEL_e21b3520fcbe4027ae9a89d3a3ff027b",
            "_dom_classes": [],
            "description": "",
            "_model_name": "HTMLModel",
            "placeholder": "​",
            "_view_module": "@jupyter-widgets/controls",
            "_model_module_version": "1.5.0",
            "value": " 466k/466k [00:31&lt;00:00, 14.8kB/s]",
            "_view_count": null,
            "_view_module_version": "1.5.0",
            "description_tooltip": null,
            "_model_module": "@jupyter-widgets/controls",
            "layout": "IPY_MODEL_6807de83b22b40b8acd95a64dcf86608"
          }
        },
        "adc1b816b8db48b9bfd6a626fe59a0fd": {
          "model_module": "@jupyter-widgets/controls",
          "model_name": "ProgressStyleModel",
          "state": {
            "_view_name": "StyleView",
            "_model_name": "ProgressStyleModel",
            "description_width": "initial",
            "_view_module": "@jupyter-widgets/base",
            "_model_module_version": "1.5.0",
            "_view_count": null,
            "_view_module_version": "1.2.0",
            "bar_color": null,
            "_model_module": "@jupyter-widgets/controls"
          }
        },
        "a8ef9a3f99f745a388dcd28acb8ad48f": {
          "model_module": "@jupyter-widgets/base",
          "model_name": "LayoutModel",
          "state": {
            "_view_name": "LayoutView",
            "grid_template_rows": null,
            "right": null,
            "justify_content": null,
            "_view_module": "@jupyter-widgets/base",
            "overflow": null,
            "_model_module_version": "1.2.0",
            "_view_count": null,
            "flex_flow": null,
            "width": null,
            "min_width": null,
            "border": null,
            "align_items": null,
            "bottom": null,
            "_model_module": "@jupyter-widgets/base",
            "top": null,
            "grid_column": null,
            "overflow_y": null,
            "overflow_x": null,
            "grid_auto_flow": null,
            "grid_area": null,
            "grid_template_columns": null,
            "flex": null,
            "_model_name": "LayoutModel",
            "justify_items": null,
            "grid_row": null,
            "max_height": null,
            "align_content": null,
            "visibility": null,
            "align_self": null,
            "height": null,
            "min_height": null,
            "padding": null,
            "grid_auto_rows": null,
            "grid_gap": null,
            "max_width": null,
            "order": null,
            "_view_module_version": "1.2.0",
            "grid_template_areas": null,
            "object_position": null,
            "object_fit": null,
            "grid_auto_columns": null,
            "margin": null,
            "display": null,
            "left": null
          }
        },
        "e21b3520fcbe4027ae9a89d3a3ff027b": {
          "model_module": "@jupyter-widgets/controls",
          "model_name": "DescriptionStyleModel",
          "state": {
            "_view_name": "StyleView",
            "_model_name": "DescriptionStyleModel",
            "description_width": "",
            "_view_module": "@jupyter-widgets/base",
            "_model_module_version": "1.5.0",
            "_view_count": null,
            "_view_module_version": "1.2.0",
            "_model_module": "@jupyter-widgets/controls"
          }
        },
        "6807de83b22b40b8acd95a64dcf86608": {
          "model_module": "@jupyter-widgets/base",
          "model_name": "LayoutModel",
          "state": {
            "_view_name": "LayoutView",
            "grid_template_rows": null,
            "right": null,
            "justify_content": null,
            "_view_module": "@jupyter-widgets/base",
            "overflow": null,
            "_model_module_version": "1.2.0",
            "_view_count": null,
            "flex_flow": null,
            "width": null,
            "min_width": null,
            "border": null,
            "align_items": null,
            "bottom": null,
            "_model_module": "@jupyter-widgets/base",
            "top": null,
            "grid_column": null,
            "overflow_y": null,
            "overflow_x": null,
            "grid_auto_flow": null,
            "grid_area": null,
            "grid_template_columns": null,
            "flex": null,
            "_model_name": "LayoutModel",
            "justify_items": null,
            "grid_row": null,
            "max_height": null,
            "align_content": null,
            "visibility": null,
            "align_self": null,
            "height": null,
            "min_height": null,
            "padding": null,
            "grid_auto_rows": null,
            "grid_gap": null,
            "max_width": null,
            "order": null,
            "_view_module_version": "1.2.0",
            "grid_template_areas": null,
            "object_position": null,
            "object_fit": null,
            "grid_auto_columns": null,
            "margin": null,
            "display": null,
            "left": null
          }
        },
        "5a2cca19f8f6440c9e3b1296290a4981": {
          "model_module": "@jupyter-widgets/controls",
          "model_name": "HBoxModel",
          "state": {
            "_view_name": "HBoxView",
            "_dom_classes": [],
            "_model_name": "HBoxModel",
            "_view_module": "@jupyter-widgets/controls",
            "_model_module_version": "1.5.0",
            "_view_count": null,
            "_view_module_version": "1.5.0",
            "box_style": "",
            "layout": "IPY_MODEL_73bd0a4f83074baaba220c9b9da9f038",
            "_model_module": "@jupyter-widgets/controls",
            "children": [
              "IPY_MODEL_b42b4641371946ec95df4e028e62e65c",
              "IPY_MODEL_de4110118b8c47a08cec3c881f90b3e7"
            ]
          }
        },
        "73bd0a4f83074baaba220c9b9da9f038": {
          "model_module": "@jupyter-widgets/base",
          "model_name": "LayoutModel",
          "state": {
            "_view_name": "LayoutView",
            "grid_template_rows": null,
            "right": null,
            "justify_content": null,
            "_view_module": "@jupyter-widgets/base",
            "overflow": null,
            "_model_module_version": "1.2.0",
            "_view_count": null,
            "flex_flow": null,
            "width": null,
            "min_width": null,
            "border": null,
            "align_items": null,
            "bottom": null,
            "_model_module": "@jupyter-widgets/base",
            "top": null,
            "grid_column": null,
            "overflow_y": null,
            "overflow_x": null,
            "grid_auto_flow": null,
            "grid_area": null,
            "grid_template_columns": null,
            "flex": null,
            "_model_name": "LayoutModel",
            "justify_items": null,
            "grid_row": null,
            "max_height": null,
            "align_content": null,
            "visibility": null,
            "align_self": null,
            "height": null,
            "min_height": null,
            "padding": null,
            "grid_auto_rows": null,
            "grid_gap": null,
            "max_width": null,
            "order": null,
            "_view_module_version": "1.2.0",
            "grid_template_areas": null,
            "object_position": null,
            "object_fit": null,
            "grid_auto_columns": null,
            "margin": null,
            "display": null,
            "left": null
          }
        },
        "b42b4641371946ec95df4e028e62e65c": {
          "model_module": "@jupyter-widgets/controls",
          "model_name": "FloatProgressModel",
          "state": {
            "_view_name": "ProgressView",
            "style": "IPY_MODEL_1dfaed2a47f544d9b4e7d88f42c9a204",
            "_dom_classes": [],
            "description": "Downloading: 100%",
            "_model_name": "FloatProgressModel",
            "bar_style": "success",
            "max": 28,
            "_view_module": "@jupyter-widgets/controls",
            "_model_module_version": "1.5.0",
            "value": 28,
            "_view_count": null,
            "_view_module_version": "1.5.0",
            "orientation": "horizontal",
            "min": 0,
            "description_tooltip": null,
            "_model_module": "@jupyter-widgets/controls",
            "layout": "IPY_MODEL_110ca0f9aa724cf5bfb10477a88cb5d9"
          }
        },
        "de4110118b8c47a08cec3c881f90b3e7": {
          "model_module": "@jupyter-widgets/controls",
          "model_name": "HTMLModel",
          "state": {
            "_view_name": "HTMLView",
            "style": "IPY_MODEL_caddc7c6ea0b4f8ba09e80a78f27606b",
            "_dom_classes": [],
            "description": "",
            "_model_name": "HTMLModel",
            "placeholder": "​",
            "_view_module": "@jupyter-widgets/controls",
            "_model_module_version": "1.5.0",
            "value": " 28.0/28.0 [00:00&lt;00:00, 40.7B/s]",
            "_view_count": null,
            "_view_module_version": "1.5.0",
            "description_tooltip": null,
            "_model_module": "@jupyter-widgets/controls",
            "layout": "IPY_MODEL_c26941b480e04ad3937a16b765a9c599"
          }
        },
        "1dfaed2a47f544d9b4e7d88f42c9a204": {
          "model_module": "@jupyter-widgets/controls",
          "model_name": "ProgressStyleModel",
          "state": {
            "_view_name": "StyleView",
            "_model_name": "ProgressStyleModel",
            "description_width": "initial",
            "_view_module": "@jupyter-widgets/base",
            "_model_module_version": "1.5.0",
            "_view_count": null,
            "_view_module_version": "1.2.0",
            "bar_color": null,
            "_model_module": "@jupyter-widgets/controls"
          }
        },
        "110ca0f9aa724cf5bfb10477a88cb5d9": {
          "model_module": "@jupyter-widgets/base",
          "model_name": "LayoutModel",
          "state": {
            "_view_name": "LayoutView",
            "grid_template_rows": null,
            "right": null,
            "justify_content": null,
            "_view_module": "@jupyter-widgets/base",
            "overflow": null,
            "_model_module_version": "1.2.0",
            "_view_count": null,
            "flex_flow": null,
            "width": null,
            "min_width": null,
            "border": null,
            "align_items": null,
            "bottom": null,
            "_model_module": "@jupyter-widgets/base",
            "top": null,
            "grid_column": null,
            "overflow_y": null,
            "overflow_x": null,
            "grid_auto_flow": null,
            "grid_area": null,
            "grid_template_columns": null,
            "flex": null,
            "_model_name": "LayoutModel",
            "justify_items": null,
            "grid_row": null,
            "max_height": null,
            "align_content": null,
            "visibility": null,
            "align_self": null,
            "height": null,
            "min_height": null,
            "padding": null,
            "grid_auto_rows": null,
            "grid_gap": null,
            "max_width": null,
            "order": null,
            "_view_module_version": "1.2.0",
            "grid_template_areas": null,
            "object_position": null,
            "object_fit": null,
            "grid_auto_columns": null,
            "margin": null,
            "display": null,
            "left": null
          }
        },
        "caddc7c6ea0b4f8ba09e80a78f27606b": {
          "model_module": "@jupyter-widgets/controls",
          "model_name": "DescriptionStyleModel",
          "state": {
            "_view_name": "StyleView",
            "_model_name": "DescriptionStyleModel",
            "description_width": "",
            "_view_module": "@jupyter-widgets/base",
            "_model_module_version": "1.5.0",
            "_view_count": null,
            "_view_module_version": "1.2.0",
            "_model_module": "@jupyter-widgets/controls"
          }
        },
        "c26941b480e04ad3937a16b765a9c599": {
          "model_module": "@jupyter-widgets/base",
          "model_name": "LayoutModel",
          "state": {
            "_view_name": "LayoutView",
            "grid_template_rows": null,
            "right": null,
            "justify_content": null,
            "_view_module": "@jupyter-widgets/base",
            "overflow": null,
            "_model_module_version": "1.2.0",
            "_view_count": null,
            "flex_flow": null,
            "width": null,
            "min_width": null,
            "border": null,
            "align_items": null,
            "bottom": null,
            "_model_module": "@jupyter-widgets/base",
            "top": null,
            "grid_column": null,
            "overflow_y": null,
            "overflow_x": null,
            "grid_auto_flow": null,
            "grid_area": null,
            "grid_template_columns": null,
            "flex": null,
            "_model_name": "LayoutModel",
            "justify_items": null,
            "grid_row": null,
            "max_height": null,
            "align_content": null,
            "visibility": null,
            "align_self": null,
            "height": null,
            "min_height": null,
            "padding": null,
            "grid_auto_rows": null,
            "grid_gap": null,
            "max_width": null,
            "order": null,
            "_view_module_version": "1.2.0",
            "grid_template_areas": null,
            "object_position": null,
            "object_fit": null,
            "grid_auto_columns": null,
            "margin": null,
            "display": null,
            "left": null
          }
        },
        "896842618bc44fbe9370989127d3919d": {
          "model_module": "@jupyter-widgets/controls",
          "model_name": "HBoxModel",
          "state": {
            "_view_name": "HBoxView",
            "_dom_classes": [],
            "_model_name": "HBoxModel",
            "_view_module": "@jupyter-widgets/controls",
            "_model_module_version": "1.5.0",
            "_view_count": null,
            "_view_module_version": "1.5.0",
            "box_style": "",
            "layout": "IPY_MODEL_0fc7e45919974851afbe7eaf5277e9e7",
            "_model_module": "@jupyter-widgets/controls",
            "children": [
              "IPY_MODEL_0940706d95994a8c91c10699140df999",
              "IPY_MODEL_07b7c9681998421d885104597871eeee"
            ]
          }
        },
        "0fc7e45919974851afbe7eaf5277e9e7": {
          "model_module": "@jupyter-widgets/base",
          "model_name": "LayoutModel",
          "state": {
            "_view_name": "LayoutView",
            "grid_template_rows": null,
            "right": null,
            "justify_content": null,
            "_view_module": "@jupyter-widgets/base",
            "overflow": null,
            "_model_module_version": "1.2.0",
            "_view_count": null,
            "flex_flow": null,
            "width": null,
            "min_width": null,
            "border": null,
            "align_items": null,
            "bottom": null,
            "_model_module": "@jupyter-widgets/base",
            "top": null,
            "grid_column": null,
            "overflow_y": null,
            "overflow_x": null,
            "grid_auto_flow": null,
            "grid_area": null,
            "grid_template_columns": null,
            "flex": null,
            "_model_name": "LayoutModel",
            "justify_items": null,
            "grid_row": null,
            "max_height": null,
            "align_content": null,
            "visibility": null,
            "align_self": null,
            "height": null,
            "min_height": null,
            "padding": null,
            "grid_auto_rows": null,
            "grid_gap": null,
            "max_width": null,
            "order": null,
            "_view_module_version": "1.2.0",
            "grid_template_areas": null,
            "object_position": null,
            "object_fit": null,
            "grid_auto_columns": null,
            "margin": null,
            "display": null,
            "left": null
          }
        },
        "0940706d95994a8c91c10699140df999": {
          "model_module": "@jupyter-widgets/controls",
          "model_name": "FloatProgressModel",
          "state": {
            "_view_name": "ProgressView",
            "style": "IPY_MODEL_d99bcc72fa6746c3aaf5b76fb8011ac0",
            "_dom_classes": [],
            "description": "Downloading: 100%",
            "_model_name": "FloatProgressModel",
            "bar_style": "success",
            "max": 571,
            "_view_module": "@jupyter-widgets/controls",
            "_model_module_version": "1.5.0",
            "value": 571,
            "_view_count": null,
            "_view_module_version": "1.5.0",
            "orientation": "horizontal",
            "min": 0,
            "description_tooltip": null,
            "_model_module": "@jupyter-widgets/controls",
            "layout": "IPY_MODEL_66b11250b7b84fe385d8561afd9d4c9a"
          }
        },
        "07b7c9681998421d885104597871eeee": {
          "model_module": "@jupyter-widgets/controls",
          "model_name": "HTMLModel",
          "state": {
            "_view_name": "HTMLView",
            "style": "IPY_MODEL_0266ec68dada4e7e8591a062a66cd728",
            "_dom_classes": [],
            "description": "",
            "_model_name": "HTMLModel",
            "placeholder": "​",
            "_view_module": "@jupyter-widgets/controls",
            "_model_module_version": "1.5.0",
            "value": " 571/571 [00:29&lt;00:00, 19.4B/s]",
            "_view_count": null,
            "_view_module_version": "1.5.0",
            "description_tooltip": null,
            "_model_module": "@jupyter-widgets/controls",
            "layout": "IPY_MODEL_3fa66f667044486bbee77f930224e68d"
          }
        },
        "d99bcc72fa6746c3aaf5b76fb8011ac0": {
          "model_module": "@jupyter-widgets/controls",
          "model_name": "ProgressStyleModel",
          "state": {
            "_view_name": "StyleView",
            "_model_name": "ProgressStyleModel",
            "description_width": "initial",
            "_view_module": "@jupyter-widgets/base",
            "_model_module_version": "1.5.0",
            "_view_count": null,
            "_view_module_version": "1.2.0",
            "bar_color": null,
            "_model_module": "@jupyter-widgets/controls"
          }
        },
        "66b11250b7b84fe385d8561afd9d4c9a": {
          "model_module": "@jupyter-widgets/base",
          "model_name": "LayoutModel",
          "state": {
            "_view_name": "LayoutView",
            "grid_template_rows": null,
            "right": null,
            "justify_content": null,
            "_view_module": "@jupyter-widgets/base",
            "overflow": null,
            "_model_module_version": "1.2.0",
            "_view_count": null,
            "flex_flow": null,
            "width": null,
            "min_width": null,
            "border": null,
            "align_items": null,
            "bottom": null,
            "_model_module": "@jupyter-widgets/base",
            "top": null,
            "grid_column": null,
            "overflow_y": null,
            "overflow_x": null,
            "grid_auto_flow": null,
            "grid_area": null,
            "grid_template_columns": null,
            "flex": null,
            "_model_name": "LayoutModel",
            "justify_items": null,
            "grid_row": null,
            "max_height": null,
            "align_content": null,
            "visibility": null,
            "align_self": null,
            "height": null,
            "min_height": null,
            "padding": null,
            "grid_auto_rows": null,
            "grid_gap": null,
            "max_width": null,
            "order": null,
            "_view_module_version": "1.2.0",
            "grid_template_areas": null,
            "object_position": null,
            "object_fit": null,
            "grid_auto_columns": null,
            "margin": null,
            "display": null,
            "left": null
          }
        },
        "0266ec68dada4e7e8591a062a66cd728": {
          "model_module": "@jupyter-widgets/controls",
          "model_name": "DescriptionStyleModel",
          "state": {
            "_view_name": "StyleView",
            "_model_name": "DescriptionStyleModel",
            "description_width": "",
            "_view_module": "@jupyter-widgets/base",
            "_model_module_version": "1.5.0",
            "_view_count": null,
            "_view_module_version": "1.2.0",
            "_model_module": "@jupyter-widgets/controls"
          }
        },
        "3fa66f667044486bbee77f930224e68d": {
          "model_module": "@jupyter-widgets/base",
          "model_name": "LayoutModel",
          "state": {
            "_view_name": "LayoutView",
            "grid_template_rows": null,
            "right": null,
            "justify_content": null,
            "_view_module": "@jupyter-widgets/base",
            "overflow": null,
            "_model_module_version": "1.2.0",
            "_view_count": null,
            "flex_flow": null,
            "width": null,
            "min_width": null,
            "border": null,
            "align_items": null,
            "bottom": null,
            "_model_module": "@jupyter-widgets/base",
            "top": null,
            "grid_column": null,
            "overflow_y": null,
            "overflow_x": null,
            "grid_auto_flow": null,
            "grid_area": null,
            "grid_template_columns": null,
            "flex": null,
            "_model_name": "LayoutModel",
            "justify_items": null,
            "grid_row": null,
            "max_height": null,
            "align_content": null,
            "visibility": null,
            "align_self": null,
            "height": null,
            "min_height": null,
            "padding": null,
            "grid_auto_rows": null,
            "grid_gap": null,
            "max_width": null,
            "order": null,
            "_view_module_version": "1.2.0",
            "grid_template_areas": null,
            "object_position": null,
            "object_fit": null,
            "grid_auto_columns": null,
            "margin": null,
            "display": null,
            "left": null
          }
        },
        "60c3bd180a314a858669e6eaeca2350d": {
          "model_module": "@jupyter-widgets/controls",
          "model_name": "HBoxModel",
          "state": {
            "_view_name": "HBoxView",
            "_dom_classes": [],
            "_model_name": "HBoxModel",
            "_view_module": "@jupyter-widgets/controls",
            "_model_module_version": "1.5.0",
            "_view_count": null,
            "_view_module_version": "1.5.0",
            "box_style": "",
            "layout": "IPY_MODEL_c010ccd5d9144c608891e09c9599f65b",
            "_model_module": "@jupyter-widgets/controls",
            "children": [
              "IPY_MODEL_ce911a183dc841a99db640ec708e3faf",
              "IPY_MODEL_d5081f4bea6b4cac98e19f8375da2cb1"
            ]
          }
        },
        "c010ccd5d9144c608891e09c9599f65b": {
          "model_module": "@jupyter-widgets/base",
          "model_name": "LayoutModel",
          "state": {
            "_view_name": "LayoutView",
            "grid_template_rows": null,
            "right": null,
            "justify_content": null,
            "_view_module": "@jupyter-widgets/base",
            "overflow": null,
            "_model_module_version": "1.2.0",
            "_view_count": null,
            "flex_flow": null,
            "width": null,
            "min_width": null,
            "border": null,
            "align_items": null,
            "bottom": null,
            "_model_module": "@jupyter-widgets/base",
            "top": null,
            "grid_column": null,
            "overflow_y": null,
            "overflow_x": null,
            "grid_auto_flow": null,
            "grid_area": null,
            "grid_template_columns": null,
            "flex": null,
            "_model_name": "LayoutModel",
            "justify_items": null,
            "grid_row": null,
            "max_height": null,
            "align_content": null,
            "visibility": null,
            "align_self": null,
            "height": null,
            "min_height": null,
            "padding": null,
            "grid_auto_rows": null,
            "grid_gap": null,
            "max_width": null,
            "order": null,
            "_view_module_version": "1.2.0",
            "grid_template_areas": null,
            "object_position": null,
            "object_fit": null,
            "grid_auto_columns": null,
            "margin": null,
            "display": null,
            "left": null
          }
        },
        "ce911a183dc841a99db640ec708e3faf": {
          "model_module": "@jupyter-widgets/controls",
          "model_name": "FloatProgressModel",
          "state": {
            "_view_name": "ProgressView",
            "style": "IPY_MODEL_921160286cbb4c28bad74616453768a7",
            "_dom_classes": [],
            "description": "Downloading: 100%",
            "_model_name": "FloatProgressModel",
            "bar_style": "success",
            "max": 1344997306,
            "_view_module": "@jupyter-widgets/controls",
            "_model_module_version": "1.5.0",
            "value": 1344997306,
            "_view_count": null,
            "_view_module_version": "1.5.0",
            "orientation": "horizontal",
            "min": 0,
            "description_tooltip": null,
            "_model_module": "@jupyter-widgets/controls",
            "layout": "IPY_MODEL_9db11bffedef4f49bf5abd426ea70a16"
          }
        },
        "d5081f4bea6b4cac98e19f8375da2cb1": {
          "model_module": "@jupyter-widgets/controls",
          "model_name": "HTMLModel",
          "state": {
            "_view_name": "HTMLView",
            "style": "IPY_MODEL_4acff2b16cb34034af89d18f15d179b5",
            "_dom_classes": [],
            "description": "",
            "_model_name": "HTMLModel",
            "placeholder": "​",
            "_view_module": "@jupyter-widgets/controls",
            "_model_module_version": "1.5.0",
            "value": " 1.34G/1.34G [00:24&lt;00:00, 56.0MB/s]",
            "_view_count": null,
            "_view_module_version": "1.5.0",
            "description_tooltip": null,
            "_model_module": "@jupyter-widgets/controls",
            "layout": "IPY_MODEL_1c8b4173c76d44cab5745d0ce3e1cff7"
          }
        },
        "921160286cbb4c28bad74616453768a7": {
          "model_module": "@jupyter-widgets/controls",
          "model_name": "ProgressStyleModel",
          "state": {
            "_view_name": "StyleView",
            "_model_name": "ProgressStyleModel",
            "description_width": "initial",
            "_view_module": "@jupyter-widgets/base",
            "_model_module_version": "1.5.0",
            "_view_count": null,
            "_view_module_version": "1.2.0",
            "bar_color": null,
            "_model_module": "@jupyter-widgets/controls"
          }
        },
        "9db11bffedef4f49bf5abd426ea70a16": {
          "model_module": "@jupyter-widgets/base",
          "model_name": "LayoutModel",
          "state": {
            "_view_name": "LayoutView",
            "grid_template_rows": null,
            "right": null,
            "justify_content": null,
            "_view_module": "@jupyter-widgets/base",
            "overflow": null,
            "_model_module_version": "1.2.0",
            "_view_count": null,
            "flex_flow": null,
            "width": null,
            "min_width": null,
            "border": null,
            "align_items": null,
            "bottom": null,
            "_model_module": "@jupyter-widgets/base",
            "top": null,
            "grid_column": null,
            "overflow_y": null,
            "overflow_x": null,
            "grid_auto_flow": null,
            "grid_area": null,
            "grid_template_columns": null,
            "flex": null,
            "_model_name": "LayoutModel",
            "justify_items": null,
            "grid_row": null,
            "max_height": null,
            "align_content": null,
            "visibility": null,
            "align_self": null,
            "height": null,
            "min_height": null,
            "padding": null,
            "grid_auto_rows": null,
            "grid_gap": null,
            "max_width": null,
            "order": null,
            "_view_module_version": "1.2.0",
            "grid_template_areas": null,
            "object_position": null,
            "object_fit": null,
            "grid_auto_columns": null,
            "margin": null,
            "display": null,
            "left": null
          }
        },
        "4acff2b16cb34034af89d18f15d179b5": {
          "model_module": "@jupyter-widgets/controls",
          "model_name": "DescriptionStyleModel",
          "state": {
            "_view_name": "StyleView",
            "_model_name": "DescriptionStyleModel",
            "description_width": "",
            "_view_module": "@jupyter-widgets/base",
            "_model_module_version": "1.5.0",
            "_view_count": null,
            "_view_module_version": "1.2.0",
            "_model_module": "@jupyter-widgets/controls"
          }
        },
        "1c8b4173c76d44cab5745d0ce3e1cff7": {
          "model_module": "@jupyter-widgets/base",
          "model_name": "LayoutModel",
          "state": {
            "_view_name": "LayoutView",
            "grid_template_rows": null,
            "right": null,
            "justify_content": null,
            "_view_module": "@jupyter-widgets/base",
            "overflow": null,
            "_model_module_version": "1.2.0",
            "_view_count": null,
            "flex_flow": null,
            "width": null,
            "min_width": null,
            "border": null,
            "align_items": null,
            "bottom": null,
            "_model_module": "@jupyter-widgets/base",
            "top": null,
            "grid_column": null,
            "overflow_y": null,
            "overflow_x": null,
            "grid_auto_flow": null,
            "grid_area": null,
            "grid_template_columns": null,
            "flex": null,
            "_model_name": "LayoutModel",
            "justify_items": null,
            "grid_row": null,
            "max_height": null,
            "align_content": null,
            "visibility": null,
            "align_self": null,
            "height": null,
            "min_height": null,
            "padding": null,
            "grid_auto_rows": null,
            "grid_gap": null,
            "max_width": null,
            "order": null,
            "_view_module_version": "1.2.0",
            "grid_template_areas": null,
            "object_position": null,
            "object_fit": null,
            "grid_auto_columns": null,
            "margin": null,
            "display": null,
            "left": null
          }
        },
        "c71a101662054658aabaa59ed19eeaa3": {
          "model_module": "@jupyter-widgets/controls",
          "model_name": "HBoxModel",
          "state": {
            "_view_name": "HBoxView",
            "_dom_classes": [],
            "_model_name": "HBoxModel",
            "_view_module": "@jupyter-widgets/controls",
            "_model_module_version": "1.5.0",
            "_view_count": null,
            "_view_module_version": "1.5.0",
            "box_style": "",
            "layout": "IPY_MODEL_4759d03404224774a28d8d109f52d63a",
            "_model_module": "@jupyter-widgets/controls",
            "children": [
              "IPY_MODEL_bcdb7d8173cb4c529c0db5db76644112",
              "IPY_MODEL_aae74a7c92f643b9b0856bb734f2e5c8"
            ]
          }
        },
        "4759d03404224774a28d8d109f52d63a": {
          "model_module": "@jupyter-widgets/base",
          "model_name": "LayoutModel",
          "state": {
            "_view_name": "LayoutView",
            "grid_template_rows": null,
            "right": null,
            "justify_content": null,
            "_view_module": "@jupyter-widgets/base",
            "overflow": null,
            "_model_module_version": "1.2.0",
            "_view_count": null,
            "flex_flow": null,
            "width": null,
            "min_width": null,
            "border": null,
            "align_items": null,
            "bottom": null,
            "_model_module": "@jupyter-widgets/base",
            "top": null,
            "grid_column": null,
            "overflow_y": null,
            "overflow_x": null,
            "grid_auto_flow": null,
            "grid_area": null,
            "grid_template_columns": null,
            "flex": null,
            "_model_name": "LayoutModel",
            "justify_items": null,
            "grid_row": null,
            "max_height": null,
            "align_content": null,
            "visibility": null,
            "align_self": null,
            "height": null,
            "min_height": null,
            "padding": null,
            "grid_auto_rows": null,
            "grid_gap": null,
            "max_width": null,
            "order": null,
            "_view_module_version": "1.2.0",
            "grid_template_areas": null,
            "object_position": null,
            "object_fit": null,
            "grid_auto_columns": null,
            "margin": null,
            "display": null,
            "left": null
          }
        },
        "bcdb7d8173cb4c529c0db5db76644112": {
          "model_module": "@jupyter-widgets/controls",
          "model_name": "FloatProgressModel",
          "state": {
            "_view_name": "ProgressView",
            "style": "IPY_MODEL_a4d1e6d53c0d4732b72034b008d255f3",
            "_dom_classes": [],
            "description": "Downloading: 100%",
            "_model_name": "FloatProgressModel",
            "bar_style": "success",
            "max": 385,
            "_view_module": "@jupyter-widgets/controls",
            "_model_module_version": "1.5.0",
            "value": 385,
            "_view_count": null,
            "_view_module_version": "1.5.0",
            "orientation": "horizontal",
            "min": 0,
            "description_tooltip": null,
            "_model_module": "@jupyter-widgets/controls",
            "layout": "IPY_MODEL_2443f0a7cbc142898f2fa7100d3998e1"
          }
        },
        "aae74a7c92f643b9b0856bb734f2e5c8": {
          "model_module": "@jupyter-widgets/controls",
          "model_name": "HTMLModel",
          "state": {
            "_view_name": "HTMLView",
            "style": "IPY_MODEL_a69b7f81626f4090a14557aa004a4902",
            "_dom_classes": [],
            "description": "",
            "_model_name": "HTMLModel",
            "placeholder": "​",
            "_view_module": "@jupyter-widgets/controls",
            "_model_module_version": "1.5.0",
            "value": " 385/385 [00:02&lt;00:00, 169B/s]",
            "_view_count": null,
            "_view_module_version": "1.5.0",
            "description_tooltip": null,
            "_model_module": "@jupyter-widgets/controls",
            "layout": "IPY_MODEL_7232ab175368492ba66ceb4a9dfa42eb"
          }
        },
        "a4d1e6d53c0d4732b72034b008d255f3": {
          "model_module": "@jupyter-widgets/controls",
          "model_name": "ProgressStyleModel",
          "state": {
            "_view_name": "StyleView",
            "_model_name": "ProgressStyleModel",
            "description_width": "initial",
            "_view_module": "@jupyter-widgets/base",
            "_model_module_version": "1.5.0",
            "_view_count": null,
            "_view_module_version": "1.2.0",
            "bar_color": null,
            "_model_module": "@jupyter-widgets/controls"
          }
        },
        "2443f0a7cbc142898f2fa7100d3998e1": {
          "model_module": "@jupyter-widgets/base",
          "model_name": "LayoutModel",
          "state": {
            "_view_name": "LayoutView",
            "grid_template_rows": null,
            "right": null,
            "justify_content": null,
            "_view_module": "@jupyter-widgets/base",
            "overflow": null,
            "_model_module_version": "1.2.0",
            "_view_count": null,
            "flex_flow": null,
            "width": null,
            "min_width": null,
            "border": null,
            "align_items": null,
            "bottom": null,
            "_model_module": "@jupyter-widgets/base",
            "top": null,
            "grid_column": null,
            "overflow_y": null,
            "overflow_x": null,
            "grid_auto_flow": null,
            "grid_area": null,
            "grid_template_columns": null,
            "flex": null,
            "_model_name": "LayoutModel",
            "justify_items": null,
            "grid_row": null,
            "max_height": null,
            "align_content": null,
            "visibility": null,
            "align_self": null,
            "height": null,
            "min_height": null,
            "padding": null,
            "grid_auto_rows": null,
            "grid_gap": null,
            "max_width": null,
            "order": null,
            "_view_module_version": "1.2.0",
            "grid_template_areas": null,
            "object_position": null,
            "object_fit": null,
            "grid_auto_columns": null,
            "margin": null,
            "display": null,
            "left": null
          }
        },
        "a69b7f81626f4090a14557aa004a4902": {
          "model_module": "@jupyter-widgets/controls",
          "model_name": "DescriptionStyleModel",
          "state": {
            "_view_name": "StyleView",
            "_model_name": "DescriptionStyleModel",
            "description_width": "",
            "_view_module": "@jupyter-widgets/base",
            "_model_module_version": "1.5.0",
            "_view_count": null,
            "_view_module_version": "1.2.0",
            "_model_module": "@jupyter-widgets/controls"
          }
        },
        "7232ab175368492ba66ceb4a9dfa42eb": {
          "model_module": "@jupyter-widgets/base",
          "model_name": "LayoutModel",
          "state": {
            "_view_name": "LayoutView",
            "grid_template_rows": null,
            "right": null,
            "justify_content": null,
            "_view_module": "@jupyter-widgets/base",
            "overflow": null,
            "_model_module_version": "1.2.0",
            "_view_count": null,
            "flex_flow": null,
            "width": null,
            "min_width": null,
            "border": null,
            "align_items": null,
            "bottom": null,
            "_model_module": "@jupyter-widgets/base",
            "top": null,
            "grid_column": null,
            "overflow_y": null,
            "overflow_x": null,
            "grid_auto_flow": null,
            "grid_area": null,
            "grid_template_columns": null,
            "flex": null,
            "_model_name": "LayoutModel",
            "justify_items": null,
            "grid_row": null,
            "max_height": null,
            "align_content": null,
            "visibility": null,
            "align_self": null,
            "height": null,
            "min_height": null,
            "padding": null,
            "grid_auto_rows": null,
            "grid_gap": null,
            "max_width": null,
            "order": null,
            "_view_module_version": "1.2.0",
            "grid_template_areas": null,
            "object_position": null,
            "object_fit": null,
            "grid_auto_columns": null,
            "margin": null,
            "display": null,
            "left": null
          }
        },
        "ad36f731152440e982277e7d8e4413dd": {
          "model_module": "@jupyter-widgets/controls",
          "model_name": "HBoxModel",
          "state": {
            "_view_name": "HBoxView",
            "_dom_classes": [],
            "_model_name": "HBoxModel",
            "_view_module": "@jupyter-widgets/controls",
            "_model_module_version": "1.5.0",
            "_view_count": null,
            "_view_module_version": "1.5.0",
            "box_style": "",
            "layout": "IPY_MODEL_d36fe806e72c48a2ae92b44881b2cd5b",
            "_model_module": "@jupyter-widgets/controls",
            "children": [
              "IPY_MODEL_be88d71297db4fab9b5767a2fb59ce48",
              "IPY_MODEL_670e05baeeaa45fb8d2f96e103bd6ead"
            ]
          }
        },
        "d36fe806e72c48a2ae92b44881b2cd5b": {
          "model_module": "@jupyter-widgets/base",
          "model_name": "LayoutModel",
          "state": {
            "_view_name": "LayoutView",
            "grid_template_rows": null,
            "right": null,
            "justify_content": null,
            "_view_module": "@jupyter-widgets/base",
            "overflow": null,
            "_model_module_version": "1.2.0",
            "_view_count": null,
            "flex_flow": null,
            "width": null,
            "min_width": null,
            "border": null,
            "align_items": null,
            "bottom": null,
            "_model_module": "@jupyter-widgets/base",
            "top": null,
            "grid_column": null,
            "overflow_y": null,
            "overflow_x": null,
            "grid_auto_flow": null,
            "grid_area": null,
            "grid_template_columns": null,
            "flex": null,
            "_model_name": "LayoutModel",
            "justify_items": null,
            "grid_row": null,
            "max_height": null,
            "align_content": null,
            "visibility": null,
            "align_self": null,
            "height": null,
            "min_height": null,
            "padding": null,
            "grid_auto_rows": null,
            "grid_gap": null,
            "max_width": null,
            "order": null,
            "_view_module_version": "1.2.0",
            "grid_template_areas": null,
            "object_position": null,
            "object_fit": null,
            "grid_auto_columns": null,
            "margin": null,
            "display": null,
            "left": null
          }
        },
        "be88d71297db4fab9b5767a2fb59ce48": {
          "model_module": "@jupyter-widgets/controls",
          "model_name": "FloatProgressModel",
          "state": {
            "_view_name": "ProgressView",
            "style": "IPY_MODEL_702ce31ed9c54f289f879f9e713c0cb8",
            "_dom_classes": [],
            "description": "Downloading: 100%",
            "_model_name": "FloatProgressModel",
            "bar_style": "success",
            "max": 227845,
            "_view_module": "@jupyter-widgets/controls",
            "_model_module_version": "1.5.0",
            "value": 227845,
            "_view_count": null,
            "_view_module_version": "1.5.0",
            "orientation": "horizontal",
            "min": 0,
            "description_tooltip": null,
            "_model_module": "@jupyter-widgets/controls",
            "layout": "IPY_MODEL_101dbb86065747e88726ebc76f524213"
          }
        },
        "670e05baeeaa45fb8d2f96e103bd6ead": {
          "model_module": "@jupyter-widgets/controls",
          "model_name": "HTMLModel",
          "state": {
            "_view_name": "HTMLView",
            "style": "IPY_MODEL_5ae70a2221b64a86bbd56029bb13b229",
            "_dom_classes": [],
            "description": "",
            "_model_name": "HTMLModel",
            "placeholder": "​",
            "_view_module": "@jupyter-widgets/controls",
            "_model_module_version": "1.5.0",
            "value": " 228k/228k [00:01&lt;00:00, 158kB/s]",
            "_view_count": null,
            "_view_module_version": "1.5.0",
            "description_tooltip": null,
            "_model_module": "@jupyter-widgets/controls",
            "layout": "IPY_MODEL_bf788db5a2944670bc442bf6a430127e"
          }
        },
        "702ce31ed9c54f289f879f9e713c0cb8": {
          "model_module": "@jupyter-widgets/controls",
          "model_name": "ProgressStyleModel",
          "state": {
            "_view_name": "StyleView",
            "_model_name": "ProgressStyleModel",
            "description_width": "initial",
            "_view_module": "@jupyter-widgets/base",
            "_model_module_version": "1.5.0",
            "_view_count": null,
            "_view_module_version": "1.2.0",
            "bar_color": null,
            "_model_module": "@jupyter-widgets/controls"
          }
        },
        "101dbb86065747e88726ebc76f524213": {
          "model_module": "@jupyter-widgets/base",
          "model_name": "LayoutModel",
          "state": {
            "_view_name": "LayoutView",
            "grid_template_rows": null,
            "right": null,
            "justify_content": null,
            "_view_module": "@jupyter-widgets/base",
            "overflow": null,
            "_model_module_version": "1.2.0",
            "_view_count": null,
            "flex_flow": null,
            "width": null,
            "min_width": null,
            "border": null,
            "align_items": null,
            "bottom": null,
            "_model_module": "@jupyter-widgets/base",
            "top": null,
            "grid_column": null,
            "overflow_y": null,
            "overflow_x": null,
            "grid_auto_flow": null,
            "grid_area": null,
            "grid_template_columns": null,
            "flex": null,
            "_model_name": "LayoutModel",
            "justify_items": null,
            "grid_row": null,
            "max_height": null,
            "align_content": null,
            "visibility": null,
            "align_self": null,
            "height": null,
            "min_height": null,
            "padding": null,
            "grid_auto_rows": null,
            "grid_gap": null,
            "max_width": null,
            "order": null,
            "_view_module_version": "1.2.0",
            "grid_template_areas": null,
            "object_position": null,
            "object_fit": null,
            "grid_auto_columns": null,
            "margin": null,
            "display": null,
            "left": null
          }
        },
        "5ae70a2221b64a86bbd56029bb13b229": {
          "model_module": "@jupyter-widgets/controls",
          "model_name": "DescriptionStyleModel",
          "state": {
            "_view_name": "StyleView",
            "_model_name": "DescriptionStyleModel",
            "description_width": "",
            "_view_module": "@jupyter-widgets/base",
            "_model_module_version": "1.5.0",
            "_view_count": null,
            "_view_module_version": "1.2.0",
            "_model_module": "@jupyter-widgets/controls"
          }
        },
        "bf788db5a2944670bc442bf6a430127e": {
          "model_module": "@jupyter-widgets/base",
          "model_name": "LayoutModel",
          "state": {
            "_view_name": "LayoutView",
            "grid_template_rows": null,
            "right": null,
            "justify_content": null,
            "_view_module": "@jupyter-widgets/base",
            "overflow": null,
            "_model_module_version": "1.2.0",
            "_view_count": null,
            "flex_flow": null,
            "width": null,
            "min_width": null,
            "border": null,
            "align_items": null,
            "bottom": null,
            "_model_module": "@jupyter-widgets/base",
            "top": null,
            "grid_column": null,
            "overflow_y": null,
            "overflow_x": null,
            "grid_auto_flow": null,
            "grid_area": null,
            "grid_template_columns": null,
            "flex": null,
            "_model_name": "LayoutModel",
            "justify_items": null,
            "grid_row": null,
            "max_height": null,
            "align_content": null,
            "visibility": null,
            "align_self": null,
            "height": null,
            "min_height": null,
            "padding": null,
            "grid_auto_rows": null,
            "grid_gap": null,
            "max_width": null,
            "order": null,
            "_view_module_version": "1.2.0",
            "grid_template_areas": null,
            "object_position": null,
            "object_fit": null,
            "grid_auto_columns": null,
            "margin": null,
            "display": null,
            "left": null
          }
        },
        "ccf8cc78d98849008b3320bace42fb4a": {
          "model_module": "@jupyter-widgets/controls",
          "model_name": "HBoxModel",
          "state": {
            "_view_name": "HBoxView",
            "_dom_classes": [],
            "_model_name": "HBoxModel",
            "_view_module": "@jupyter-widgets/controls",
            "_model_module_version": "1.5.0",
            "_view_count": null,
            "_view_module_version": "1.5.0",
            "box_style": "",
            "layout": "IPY_MODEL_61726bcacda649f58dd38485da59b1fe",
            "_model_module": "@jupyter-widgets/controls",
            "children": [
              "IPY_MODEL_3c5b2f2d875d42059379875b8c1f1d28",
              "IPY_MODEL_4063fac92c944eddba7bc662a40bcd2f"
            ]
          }
        },
        "61726bcacda649f58dd38485da59b1fe": {
          "model_module": "@jupyter-widgets/base",
          "model_name": "LayoutModel",
          "state": {
            "_view_name": "LayoutView",
            "grid_template_rows": null,
            "right": null,
            "justify_content": null,
            "_view_module": "@jupyter-widgets/base",
            "overflow": null,
            "_model_module_version": "1.2.0",
            "_view_count": null,
            "flex_flow": null,
            "width": null,
            "min_width": null,
            "border": null,
            "align_items": null,
            "bottom": null,
            "_model_module": "@jupyter-widgets/base",
            "top": null,
            "grid_column": null,
            "overflow_y": null,
            "overflow_x": null,
            "grid_auto_flow": null,
            "grid_area": null,
            "grid_template_columns": null,
            "flex": null,
            "_model_name": "LayoutModel",
            "justify_items": null,
            "grid_row": null,
            "max_height": null,
            "align_content": null,
            "visibility": null,
            "align_self": null,
            "height": null,
            "min_height": null,
            "padding": null,
            "grid_auto_rows": null,
            "grid_gap": null,
            "max_width": null,
            "order": null,
            "_view_module_version": "1.2.0",
            "grid_template_areas": null,
            "object_position": null,
            "object_fit": null,
            "grid_auto_columns": null,
            "margin": null,
            "display": null,
            "left": null
          }
        },
        "3c5b2f2d875d42059379875b8c1f1d28": {
          "model_module": "@jupyter-widgets/controls",
          "model_name": "FloatProgressModel",
          "state": {
            "_view_name": "ProgressView",
            "style": "IPY_MODEL_21079b76015745d59c04a563d8c74e27",
            "_dom_classes": [],
            "description": "Downloading: 100%",
            "_model_name": "FloatProgressModel",
            "bar_style": "success",
            "max": 442221694,
            "_view_module": "@jupyter-widgets/controls",
            "_model_module_version": "1.5.0",
            "value": 442221694,
            "_view_count": null,
            "_view_module_version": "1.5.0",
            "orientation": "horizontal",
            "min": 0,
            "description_tooltip": null,
            "_model_module": "@jupyter-widgets/controls",
            "layout": "IPY_MODEL_44ea5d40659f455fa5d6170140b05fad"
          }
        },
        "4063fac92c944eddba7bc662a40bcd2f": {
          "model_module": "@jupyter-widgets/controls",
          "model_name": "HTMLModel",
          "state": {
            "_view_name": "HTMLView",
            "style": "IPY_MODEL_649104a15d144ca0961d5602868766dd",
            "_dom_classes": [],
            "description": "",
            "_model_name": "HTMLModel",
            "placeholder": "​",
            "_view_module": "@jupyter-widgets/controls",
            "_model_module_version": "1.5.0",
            "value": " 442M/442M [00:08&lt;00:00, 54.9MB/s]",
            "_view_count": null,
            "_view_module_version": "1.5.0",
            "description_tooltip": null,
            "_model_module": "@jupyter-widgets/controls",
            "layout": "IPY_MODEL_30fadb559521496f982b3c046964dfc6"
          }
        },
        "21079b76015745d59c04a563d8c74e27": {
          "model_module": "@jupyter-widgets/controls",
          "model_name": "ProgressStyleModel",
          "state": {
            "_view_name": "StyleView",
            "_model_name": "ProgressStyleModel",
            "description_width": "initial",
            "_view_module": "@jupyter-widgets/base",
            "_model_module_version": "1.5.0",
            "_view_count": null,
            "_view_module_version": "1.2.0",
            "bar_color": null,
            "_model_module": "@jupyter-widgets/controls"
          }
        },
        "44ea5d40659f455fa5d6170140b05fad": {
          "model_module": "@jupyter-widgets/base",
          "model_name": "LayoutModel",
          "state": {
            "_view_name": "LayoutView",
            "grid_template_rows": null,
            "right": null,
            "justify_content": null,
            "_view_module": "@jupyter-widgets/base",
            "overflow": null,
            "_model_module_version": "1.2.0",
            "_view_count": null,
            "flex_flow": null,
            "width": null,
            "min_width": null,
            "border": null,
            "align_items": null,
            "bottom": null,
            "_model_module": "@jupyter-widgets/base",
            "top": null,
            "grid_column": null,
            "overflow_y": null,
            "overflow_x": null,
            "grid_auto_flow": null,
            "grid_area": null,
            "grid_template_columns": null,
            "flex": null,
            "_model_name": "LayoutModel",
            "justify_items": null,
            "grid_row": null,
            "max_height": null,
            "align_content": null,
            "visibility": null,
            "align_self": null,
            "height": null,
            "min_height": null,
            "padding": null,
            "grid_auto_rows": null,
            "grid_gap": null,
            "max_width": null,
            "order": null,
            "_view_module_version": "1.2.0",
            "grid_template_areas": null,
            "object_position": null,
            "object_fit": null,
            "grid_auto_columns": null,
            "margin": null,
            "display": null,
            "left": null
          }
        },
        "649104a15d144ca0961d5602868766dd": {
          "model_module": "@jupyter-widgets/controls",
          "model_name": "DescriptionStyleModel",
          "state": {
            "_view_name": "StyleView",
            "_model_name": "DescriptionStyleModel",
            "description_width": "",
            "_view_module": "@jupyter-widgets/base",
            "_model_module_version": "1.5.0",
            "_view_count": null,
            "_view_module_version": "1.2.0",
            "_model_module": "@jupyter-widgets/controls"
          }
        },
        "30fadb559521496f982b3c046964dfc6": {
          "model_module": "@jupyter-widgets/base",
          "model_name": "LayoutModel",
          "state": {
            "_view_name": "LayoutView",
            "grid_template_rows": null,
            "right": null,
            "justify_content": null,
            "_view_module": "@jupyter-widgets/base",
            "overflow": null,
            "_model_module_version": "1.2.0",
            "_view_count": null,
            "flex_flow": null,
            "width": null,
            "min_width": null,
            "border": null,
            "align_items": null,
            "bottom": null,
            "_model_module": "@jupyter-widgets/base",
            "top": null,
            "grid_column": null,
            "overflow_y": null,
            "overflow_x": null,
            "grid_auto_flow": null,
            "grid_area": null,
            "grid_template_columns": null,
            "flex": null,
            "_model_name": "LayoutModel",
            "justify_items": null,
            "grid_row": null,
            "max_height": null,
            "align_content": null,
            "visibility": null,
            "align_self": null,
            "height": null,
            "min_height": null,
            "padding": null,
            "grid_auto_rows": null,
            "grid_gap": null,
            "max_width": null,
            "order": null,
            "_view_module_version": "1.2.0",
            "grid_template_areas": null,
            "object_position": null,
            "object_fit": null,
            "grid_auto_columns": null,
            "margin": null,
            "display": null,
            "left": null
          }
        }
      }
    }
  },
  "cells": [
    {
      "cell_type": "markdown",
      "metadata": {
        "id": "view-in-github",
        "colab_type": "text"
      },
      "source": [
        "<a href=\"https://colab.research.google.com/github/cicattzo/nlp_project/blob/main/6_684_project_bertsum.ipynb\" target=\"_parent\"><img src=\"https://colab.research.google.com/assets/colab-badge.svg\" alt=\"Open In Colab\"/></a>"
      ]
    },
    {
      "cell_type": "code",
      "metadata": {
        "id": "xsZ55ClpgP4m",
        "colab": {
          "base_uri": "https://localhost:8080/"
        },
        "outputId": "50820c1c-ebd5-4bea-f047-fe9cb49c9186"
      },
      "source": [
        "from google.colab import drive\n",
        "drive.mount('/content/gdrive')"
      ],
      "execution_count": null,
      "outputs": [
        {
          "output_type": "stream",
          "text": [
            "Mounted at /content/gdrive\n"
          ],
          "name": "stdout"
        }
      ]
    },
    {
      "cell_type": "code",
      "metadata": {
        "id": "QpijPiE2vSCO"
      },
      "source": [
        "'''Define the model you want to run here:'''\n",
        "\n",
        "'''Wanted data sets the dataset to train on. The options are:\n",
        "cnn - full cnn dataset from online\n",
        "cnn_sample - cnn sample dataset from the dropbox\n",
        "bc3 - bc3 dataset from the dropbox\n",
        "merged_data - merged dataset from the dropbox'''\n",
        "wanted_data = 'cnn_sample'\n",
        "\n",
        "# '''pretrained_model_name determines the pretrained model to load prior to training. The options are:\n",
        "# bert - trains a bert-base-uncased to bert-base-uncased encoder decoder model\n",
        "# gpt2 - trains a gp2 encoder decoder model\n",
        "# pretrained_summarizer - pretrained summarization model on financial reports'''\n",
        "# pretrained_model_name = 'gpt2'\n",
        "\n",
        "# '''Model type determines the architecture of the model to train on. The options are:\n",
        "# original - fine tuned model with only a single linear layer\n",
        "# bottleneck - bottleneck fine tuning with a linear layer scaling it down, dropout, then scaling it back up'''\n",
        "# model_type = 'bottleneck'"
      ],
      "execution_count": null,
      "outputs": []
    },
    {
      "cell_type": "code",
      "metadata": {
        "id": "WrSTT_MYr1n1"
      },
      "source": [
        "%%capture\n",
        "\"\"\"\n",
        "Install working versions of packages\n",
        "\"\"\"\n",
        "!pip install torch==1.4.1\n",
        "!pip install datasets==1.0.2\n",
        "# !pip install transformers==4.0.1\n",
        "!pip install transformers==4.4.2\n",
        "!pip install bert-extractive-summarizer\n",
        "!pip install sacrebleu\n",
        "!pip install rouge_score\n",
        "\n"
      ],
      "execution_count": null,
      "outputs": []
    },
    {
      "cell_type": "code",
      "metadata": {
        "id": "YdK6fISXP5rP"
      },
      "source": [
        "MODEL_FOLDER = \"/content/gdrive/MyDrive/6864_project/\"\n",
        "\n",
        "import datasets\n",
        "from transformers import BertTokenizerFast\n",
        "from summarizer import Summarizer\n",
        "import sacrebleu\n",
        "from rouge_score import rouge_scorer\n",
        "from tqdm import tqdm\n",
        "import pandas as pd\n",
        "import numpy as np\n",
        "from transformers import EncoderDecoderModel"
      ],
      "execution_count": null,
      "outputs": []
    },
    {
      "cell_type": "code",
      "metadata": {
        "colab": {
          "base_uri": "https://localhost:8080/"
        },
        "id": "dab1_4QGtxxo",
        "outputId": "0b080392-f4c5-4d82-93ae-1749386a8854"
      },
      "source": [
        "%%bash\n",
        "mkdir \"/content/gdrive/MyDrive/6864_project/\"\n",
        "cd \"/content/gdrive/MyDrive/6864_project/\""
      ],
      "execution_count": null,
      "outputs": [
        {
          "output_type": "stream",
          "text": [
            "mkdir: cannot create directory ‘/content/gdrive/MyDrive/6864_project/’: File exists\n"
          ],
          "name": "stderr"
        }
      ]
    },
    {
      "cell_type": "markdown",
      "metadata": {
        "id": "i-JB3g4TF_3D"
      },
      "source": [
        "# Download data"
      ]
    },
    {
      "cell_type": "code",
      "metadata": {
        "id": "QiyvN4yhtu9S"
      },
      "source": [
        "#decide which dataset we want to train on \n",
        "if wanted_data == 'cnn':\n",
        "  train_data = datasets.load_dataset(\"cnn_dailymail\", \"3.0.0\", split=\"train[:5%]\")\n",
        "  train_data = [x for x in train_data]\n",
        "  full_text_key = 'article'\n",
        "  label_key = 'highlights'\n",
        "elif wanted_data == 'bc3':\n",
        "\n",
        "  #reading in and processing data\n",
        "  bc3_df = pd.read_csv(MODEL_FOLDER+\"bc3_processed.csv\")\n",
        "  txt = bc3_df.iloc[0]['body']\n",
        "  summary = bc3_df.iloc[0]['summary']\n",
        "  # keeping the subject and body separate, but they can be merged\n",
        "  bc3_df['unique_key'] = bc3_df['listno'] + \"-\" + bc3_df['email_num'].astype(str)\n",
        "  # train_data = bc3_df.groupby('unique_key').agg({'subject':lambda x: x.iloc[0], 'body':lambda x: x.iloc[0], 'summary':lambda x: x.to_list()}).to_dict('records')\n",
        "  train_data = bc3_df.agg({'subject':lambda x: x.iloc[0], 'body':lambda x: x.iloc[0], 'summary':lambda x: x}).to_dict('records')\n",
        "\n",
        "  test_data_pd = pd.read_csv(MODEL_FOLDER+\"bc3_test.csv\")\n",
        "  test_data = test_data_pd.to_dict('records')\n",
        "  test_data = [x for x in test_data]\n",
        "  full_text_key = 'body'\n",
        "  label_key = 'summary'\n",
        "\n",
        "elif wanted_data == 'cnn_sample':\n",
        "  train_data_pd = pd.read_csv(MODEL_FOLDER+\"cnn_train_data_5.csv\")\n",
        "  test_data_pd = pd.read_csv(MODEL_FOLDER+\"bc3_test.csv\")\n",
        "\n",
        "  train_data = train_data_pd.to_dict('records')\n",
        "  train_data = [x for x in train_data]\n",
        "\n",
        "  test_data = test_data_pd.to_dict('records')\n",
        "  test_data = [x for x in test_data]\n",
        "\n",
        "  full_text_key = 'article'\n",
        "  label_key = 'highlights'\n",
        "\n",
        "elif wanted_data == 'merged_data':\n",
        "  train_data_pd = pd.read_csv(MODEL_FOLDER+\"train_combined.csv\")\n",
        "  test_data_pd = pd.read_csv(MODEL_FOLDER+\"bc3_test.csv\")\n",
        "\n",
        "  train_data = train_data_pd.to_dict('records')\n",
        "  train_data = [x for x in train_data]\n",
        "\n",
        "  test_data = test_data_pd.to_dict('records')\n",
        "  test_data = [x for x in test_data]\n",
        "\n",
        "  full_text_key = 'article'\n",
        "  label_key = 'highlights'"
      ],
      "execution_count": null,
      "outputs": []
    },
    {
      "cell_type": "markdown",
      "metadata": {
        "id": "OFgVIByeGcyo"
      },
      "source": [
        "# Bert Extractive Summarization - bert-base-uncased tokenizer"
      ]
    },
    {
      "cell_type": "code",
      "metadata": {
        "colab": {
          "base_uri": "https://localhost:8080/",
          "height": 164,
          "referenced_widgets": [
            "a10054d4fc7f4e3c97e1576eb7951c11",
            "1634037df1ac438180a6c98093f18709",
            "03d7d9ef9ff249768abccd46f9fdf74e",
            "ca1cc9eb438d4fe2a5c14d3a9f459d40",
            "2c88e63ad3424e1b9ccf7b991131ae90",
            "9297063840154a48a03d9e1018daa828",
            "09450ba59b7f49f99720cdf2f3c864d4",
            "5817bb1f505645f4afaabcfc8dfbf17a",
            "09efc2113c974bfaa1ef7ec6fa29d0dd",
            "062316eab00143ceae32492e32d5b44b",
            "8599d733365b4b02a0d504e4aca32316",
            "0461aeaadebd4f2fb9b02a5d96c8f57d",
            "adc1b816b8db48b9bfd6a626fe59a0fd",
            "a8ef9a3f99f745a388dcd28acb8ad48f",
            "e21b3520fcbe4027ae9a89d3a3ff027b",
            "6807de83b22b40b8acd95a64dcf86608",
            "5a2cca19f8f6440c9e3b1296290a4981",
            "73bd0a4f83074baaba220c9b9da9f038",
            "b42b4641371946ec95df4e028e62e65c",
            "de4110118b8c47a08cec3c881f90b3e7",
            "1dfaed2a47f544d9b4e7d88f42c9a204",
            "110ca0f9aa724cf5bfb10477a88cb5d9",
            "caddc7c6ea0b4f8ba09e80a78f27606b",
            "c26941b480e04ad3937a16b765a9c599"
          ]
        },
        "id": "E81Klvp3wzXq",
        "outputId": "13b6d4dd-59e8-47d1-bbb7-230406d91120"
      },
      "source": [
        "from transformers import BertTokenizerFast\n",
        "tokenizer = BertTokenizerFast.from_pretrained(\"bert-base-uncased\")"
      ],
      "execution_count": null,
      "outputs": [
        {
          "output_type": "display_data",
          "data": {
            "application/vnd.jupyter.widget-view+json": {
              "model_id": "a10054d4fc7f4e3c97e1576eb7951c11",
              "version_minor": 0,
              "version_major": 2
            },
            "text/plain": [
              "HBox(children=(FloatProgress(value=0.0, description='Downloading', max=231508.0, style=ProgressStyle(descripti…"
            ]
          },
          "metadata": {
            "tags": []
          }
        },
        {
          "output_type": "stream",
          "text": [
            "\n"
          ],
          "name": "stdout"
        },
        {
          "output_type": "display_data",
          "data": {
            "application/vnd.jupyter.widget-view+json": {
              "model_id": "09efc2113c974bfaa1ef7ec6fa29d0dd",
              "version_minor": 0,
              "version_major": 2
            },
            "text/plain": [
              "HBox(children=(FloatProgress(value=0.0, description='Downloading', max=466062.0, style=ProgressStyle(descripti…"
            ]
          },
          "metadata": {
            "tags": []
          }
        },
        {
          "output_type": "stream",
          "text": [
            "\n"
          ],
          "name": "stdout"
        },
        {
          "output_type": "display_data",
          "data": {
            "application/vnd.jupyter.widget-view+json": {
              "model_id": "5a2cca19f8f6440c9e3b1296290a4981",
              "version_minor": 0,
              "version_major": 2
            },
            "text/plain": [
              "HBox(children=(FloatProgress(value=0.0, description='Downloading', max=28.0, style=ProgressStyle(description_w…"
            ]
          },
          "metadata": {
            "tags": []
          }
        },
        {
          "output_type": "stream",
          "text": [
            "\n"
          ],
          "name": "stdout"
        }
      ]
    },
    {
      "cell_type": "code",
      "metadata": {
        "id": "__yXhxoXM6VS",
        "colab": {
          "base_uri": "https://localhost:8080/",
          "height": 115,
          "referenced_widgets": [
            "896842618bc44fbe9370989127d3919d",
            "0fc7e45919974851afbe7eaf5277e9e7",
            "0940706d95994a8c91c10699140df999",
            "07b7c9681998421d885104597871eeee",
            "d99bcc72fa6746c3aaf5b76fb8011ac0",
            "66b11250b7b84fe385d8561afd9d4c9a",
            "0266ec68dada4e7e8591a062a66cd728",
            "3fa66f667044486bbee77f930224e68d",
            "60c3bd180a314a858669e6eaeca2350d",
            "c010ccd5d9144c608891e09c9599f65b",
            "ce911a183dc841a99db640ec708e3faf",
            "d5081f4bea6b4cac98e19f8375da2cb1",
            "921160286cbb4c28bad74616453768a7",
            "9db11bffedef4f49bf5abd426ea70a16",
            "4acff2b16cb34034af89d18f15d179b5",
            "1c8b4173c76d44cab5745d0ce3e1cff7"
          ]
        },
        "outputId": "073665b9-c84e-454c-f2ad-cb3ea42620bb"
      },
      "source": [
        "model = Summarizer(custom_tokenizer=tokenizer)"
      ],
      "execution_count": null,
      "outputs": [
        {
          "output_type": "display_data",
          "data": {
            "application/vnd.jupyter.widget-view+json": {
              "model_id": "896842618bc44fbe9370989127d3919d",
              "version_minor": 0,
              "version_major": 2
            },
            "text/plain": [
              "HBox(children=(FloatProgress(value=0.0, description='Downloading', max=571.0, style=ProgressStyle(description_…"
            ]
          },
          "metadata": {
            "tags": []
          }
        },
        {
          "output_type": "stream",
          "text": [
            "\n"
          ],
          "name": "stdout"
        },
        {
          "output_type": "display_data",
          "data": {
            "application/vnd.jupyter.widget-view+json": {
              "model_id": "60c3bd180a314a858669e6eaeca2350d",
              "version_minor": 0,
              "version_major": 2
            },
            "text/plain": [
              "HBox(children=(FloatProgress(value=0.0, description='Downloading', max=1344997306.0, style=ProgressStyle(descr…"
            ]
          },
          "metadata": {
            "tags": []
          }
        },
        {
          "output_type": "stream",
          "text": [
            "\n"
          ],
          "name": "stdout"
        }
      ]
    },
    {
      "cell_type": "code",
      "metadata": {
        "colab": {
          "base_uri": "https://localhost:8080/"
        },
        "id": "V0uLDwnyy7jW",
        "outputId": "d1a72386-6b82-451f-8482-91c98c9492e7"
      },
      "source": [
        "test_data[0]"
      ],
      "execution_count": null,
      "outputs": [
        {
          "output_type": "execute_result",
          "data": {
            "text/plain": [
              "{'body': '> In fact, I have it on the shelf behind me at work as I type this, beside my XHTML, XSLT, CSS, usability, and disability references. \\nIs this bookshelf documented on Kynn.COM, or would you consider sharing with us a short list of the references you find the most helpful? \\nAl',\n",
              " 'email_num': 6,\n",
              " 'listno': '076-4622322',\n",
              " 'subject': 'w3c-wai-ig@w3.org',\n",
              " 'summary': \"Al asks if Kynn's book collection is documented on Kynn's site.\"}"
            ]
          },
          "metadata": {
            "tags": []
          },
          "execution_count": 9
        }
      ]
    },
    {
      "cell_type": "code",
      "metadata": {
        "id": "5335pkz7y-UC"
      },
      "source": [
        ""
      ],
      "execution_count": null,
      "outputs": []
    },
    {
      "cell_type": "code",
      "metadata": {
        "id": "Gnw-O-MpPcy8"
      },
      "source": [
        "rscorer = rouge_scorer.RougeScorer(['rouge1', 'rouge2'], use_stemmer=True)\n",
        "\n",
        "rouge_score_list = []\n",
        "bleu_score_list = []\n",
        "\n",
        "print('Len of our corpus:', len(test_data))\n",
        "i = 0\n",
        "for i in range(len(test_data)):\n",
        "  print('Current email: ', i)\n",
        "  email = test_data[i]\n",
        "  txt = email['body']\n",
        "  summary = email['summary']\n",
        "  # parser = PlaintextParser.from_string(txt, tokenizer)\n",
        "  pred = model(txt, num_sentences = 1)\n",
        "  rouge_score_list.append(rscorer.score(summary, pred))\n",
        "  bleu_score_list.append(sacrebleu.raw_corpus_bleu([pred], [[summary]], .01).score)\n",
        "  i+=1\n",
        "\n",
        "\n",
        "print('rouge2-fscore',np.mean([sc['rouge2'].fmeasure for sc in rouge_score_list]))\n",
        "print('rouge1-fscore', np.mean([sc['rouge1'].fmeasure for sc in rouge_score_list]))\n",
        "print('bleu-score',np.mean(bleu_score_list))"
      ],
      "execution_count": null,
      "outputs": []
    },
    {
      "cell_type": "code",
      "metadata": {
        "id": "_5XVtP7FSMHH"
      },
      "source": [
        ""
      ],
      "execution_count": null,
      "outputs": []
    },
    {
      "cell_type": "code",
      "metadata": {
        "colab": {
          "base_uri": "https://localhost:8080/"
        },
        "id": "_VAdmrDtSMJq",
        "outputId": "524cf52a-d6ed-42c6-d578-be7ff186ef25"
      },
      "source": [
        "i = 0\n",
        "while i<=5:\n",
        "  print('body: ', test_data[i]['body'])\n",
        "  print('actual summary: ', test_data[i]['summary'])\n",
        "  print('predicted summary BERTSUM: ', model(test_data[i]['body'], num_sentences = 1))\n",
        "  print('\\n')\n",
        "  i+=1"
      ],
      "execution_count": null,
      "outputs": [
        {
          "output_type": "stream",
          "text": [
            "body:  > In fact, I have it on the shelf behind me at work as I type this, beside my XHTML, XSLT, CSS, usability, and disability references. \n",
            "Is this bookshelf documented on Kynn.COM, or would you consider sharing with us a short list of the references you find the most helpful? \n",
            "Al\n",
            "actual summary:  Al asks if Kynn's book collection is documented on Kynn's site.\n",
            "predicted summary BERTSUM:  > In fact, I have it on the shelf behind me at work as I type this, beside my XHTML, XSLT, CSS, usability, and disability references.\n",
            "\n",
            "\n",
            "body:  > Is this bookshelf documented on Kynn.COM, or would you consider sharing with us a short list of the references you find the most helpful? \n",
            "Hey, that's not a bad idea. In fact, I encourage everyone else to share their favorite bookshelf collections -- if relevant to WAI activities. I'll post mine on kynn.com tomorrow when I'm back in the office.\n",
            "actual summary:  Kynn thinks that Al has a good idea and encourages everyone to share their bookshelf collections if relevant to WAI activities.\n",
            "predicted summary BERTSUM:  COM, or would you consider sharing with us a short list of the references you find the most helpful? In fact, I encourage everyone else to share their favorite bookshelf collections -- if relevant to WAI activities.\n",
            "\n",
            "\n",
            "body:  > Is this bookshelf documented on Kynn.COM, or would you consider sharing with us a short list of the references you find the most helpful? \n",
            "Hey, that's not a bad idea. In fact, I encourage everyone else to share their favorite bookshelf collections -- if relevant to WAI activities. I'll post mine on kynn.com tomorrow when I'm back in the office.\n",
            "actual summary:  Kynn says he will post his collection tomorrow. He also encourages others to do the same, if it is relevant to WAI.\n",
            "predicted summary BERTSUM:  COM, or would you consider sharing with us a short list of the references you find the most helpful? In fact, I encourage everyone else to share their favorite bookshelf collections -- if relevant to WAI activities.\n",
            "\n",
            "\n",
            "body:  I have built a form which has a submit button on it. If the user activates the button and hasn't filled out the form correctly, a javascript 'alert' pop-up is presented to the user, giving more information. This appears to be in breach of checkpoint 10.1 http://www.w3.org/TR/WCAG10/wai-pageauth.html#tech-avoid-pop-ups Would it be acceptable to provide a warning message, something like 'Submitting this form may result in a pop-up dialog being displayed' before the submit button, in the same color as the background? Thus (I believe) making the text available to screen reader users but not to sighted users? Regards Graham Oliver __________________________________________________ Do You Yahoo!? Get email at your own domain with Yahoo! Mail. http://personal.mail.yahoo.com/\n",
            "actual summary:  Graham asks if it is acceptable to hide text using colours to make it accessible only to users using screen readers.\n",
            "predicted summary BERTSUM:  I have built a form which has a submit button on it. If the user activates the button and hasn't filled out the form correctly, a javascript 'alert' pop-up is presented to the user, giving more information.\n",
            "\n",
            "\n",
            "body:  I have built a form which has a submit button on it. If the user activates the button and hasn't filled out the form correctly, a javascript 'alert' pop-up is presented to the user, giving more information. This appears to be in breach of checkpoint 10.1 http://www.w3.org/TR/WCAG10/wai-pageauth.html#tech-avoid-pop-ups Would it be acceptable to provide a warning message, something like 'Submitting this form may result in a pop-up dialog being displayed' before the submit button, in the same color as the background? Thus (I believe) making the text available to screen reader users but not to sighted users? Regards Graham Oliver __________________________________________________ Do You Yahoo!? Get email at your own domain with Yahoo! Mail. http://personal.mail.yahoo.com/\n",
            "actual summary:  Graham says he has made a form which includes a submit button. If one presses submit but has not correctly completed the form, an alert will pop-up, giving more information. But this is in breach of checkpoint 10.1. He asks whether he could provide a warning message before the submit button that is the same color as the background. This would make the text available to screen reader users but not sighted users.\n",
            "predicted summary BERTSUM:  I have built a form which has a submit button on it. If the user activates the button and hasn't filled out the form correctly, a javascript 'alert' pop-up is presented to the user, giving more information.\n",
            "\n",
            "\n",
            "body:  I have built a form which has a submit button on it. If the user activates the button and hasn't filled out the form correctly, a javascript 'alert' pop-up is presented to the user, giving more information. This appears to be in breach of checkpoint 10.1 http://www.w3.org/TR/WCAG10/wai-pageauth.html#tech-avoid-pop-ups Would it be acceptable to provide a warning message, something like 'Submitting this form may result in a pop-up dialog being displayed' before the submit button, in the same color as the background? Thus (I believe) making the text available to screen reader users but not to sighted users? Regards Graham Oliver __________________________________________________ Do You Yahoo!? Get email at your own domain with Yahoo! Mail. http://personal.mail.yahoo.com/\n",
            "actual summary:  Graham comments that h e has built a form with submit button that if the form is not correctly filled out, a pop-up alert will appear. He feels this may be breeching of a rule called checkpoint 10.1 and asks if it is acceptable to provide a warning message in the same color as the background making the text available to screen readers but not regular users.\n",
            "predicted summary BERTSUM:  I have built a form which has a submit button on it. If the user activates the button and hasn't filled out the form correctly, a javascript 'alert' pop-up is presented to the user, giving more information.\n",
            "\n",
            "\n"
          ],
          "name": "stdout"
        }
      ]
    },
    {
      "cell_type": "code",
      "metadata": {
        "id": "f3GVS9qZ3Dvu"
      },
      "source": [
        ""
      ],
      "execution_count": null,
      "outputs": []
    },
    {
      "cell_type": "code",
      "metadata": {
        "id": "us1WrvTD3EZ4"
      },
      "source": [
        ""
      ],
      "execution_count": null,
      "outputs": []
    },
    {
      "cell_type": "code",
      "metadata": {
        "colab": {
          "base_uri": "https://localhost:8080/",
          "height": 164,
          "referenced_widgets": [
            "c71a101662054658aabaa59ed19eeaa3",
            "4759d03404224774a28d8d109f52d63a",
            "bcdb7d8173cb4c529c0db5db76644112",
            "aae74a7c92f643b9b0856bb734f2e5c8",
            "a4d1e6d53c0d4732b72034b008d255f3",
            "2443f0a7cbc142898f2fa7100d3998e1",
            "a69b7f81626f4090a14557aa004a4902",
            "7232ab175368492ba66ceb4a9dfa42eb",
            "ad36f731152440e982277e7d8e4413dd",
            "d36fe806e72c48a2ae92b44881b2cd5b",
            "be88d71297db4fab9b5767a2fb59ce48",
            "670e05baeeaa45fb8d2f96e103bd6ead",
            "702ce31ed9c54f289f879f9e713c0cb8",
            "101dbb86065747e88726ebc76f524213",
            "5ae70a2221b64a86bbd56029bb13b229",
            "bf788db5a2944670bc442bf6a430127e",
            "ccf8cc78d98849008b3320bace42fb4a",
            "61726bcacda649f58dd38485da59b1fe",
            "3c5b2f2d875d42059379875b8c1f1d28",
            "4063fac92c944eddba7bc662a40bcd2f",
            "21079b76015745d59c04a563d8c74e27",
            "44ea5d40659f455fa5d6170140b05fad",
            "649104a15d144ca0961d5602868766dd",
            "30fadb559521496f982b3c046964dfc6"
          ]
        },
        "id": "ZhnKVaFz3L6z",
        "outputId": "1f8fe004-ff57-4871-cd14-72b70331bed0"
      },
      "source": [
        "from transformers import *\n",
        "custom_config = AutoConfig.from_pretrained('allenai/scibert_scivocab_uncased')\n",
        "custom_config.output_hidden_states=True\n",
        "custom_tokenizer = AutoTokenizer.from_pretrained('allenai/scibert_scivocab_uncased')\n",
        "custom_model = AutoModel.from_pretrained('allenai/scibert_scivocab_uncased', config=custom_config)"
      ],
      "execution_count": null,
      "outputs": [
        {
          "output_type": "display_data",
          "data": {
            "application/vnd.jupyter.widget-view+json": {
              "model_id": "c71a101662054658aabaa59ed19eeaa3",
              "version_minor": 0,
              "version_major": 2
            },
            "text/plain": [
              "HBox(children=(FloatProgress(value=0.0, description='Downloading', max=385.0, style=ProgressStyle(description_…"
            ]
          },
          "metadata": {
            "tags": []
          }
        },
        {
          "output_type": "stream",
          "text": [
            "\n"
          ],
          "name": "stdout"
        },
        {
          "output_type": "display_data",
          "data": {
            "application/vnd.jupyter.widget-view+json": {
              "model_id": "ad36f731152440e982277e7d8e4413dd",
              "version_minor": 0,
              "version_major": 2
            },
            "text/plain": [
              "HBox(children=(FloatProgress(value=0.0, description='Downloading', max=227845.0, style=ProgressStyle(descripti…"
            ]
          },
          "metadata": {
            "tags": []
          }
        },
        {
          "output_type": "stream",
          "text": [
            "\n"
          ],
          "name": "stdout"
        },
        {
          "output_type": "display_data",
          "data": {
            "application/vnd.jupyter.widget-view+json": {
              "model_id": "ccf8cc78d98849008b3320bace42fb4a",
              "version_minor": 0,
              "version_major": 2
            },
            "text/plain": [
              "HBox(children=(FloatProgress(value=0.0, description='Downloading', max=442221694.0, style=ProgressStyle(descri…"
            ]
          },
          "metadata": {
            "tags": []
          }
        },
        {
          "output_type": "stream",
          "text": [
            "\n"
          ],
          "name": "stdout"
        }
      ]
    },
    {
      "cell_type": "code",
      "metadata": {
        "id": "hMvbUDKL3L9d"
      },
      "source": [
        "model = Summarizer(custom_model = custom_model, custom_tokenizer=custom_tokenizer)"
      ],
      "execution_count": null,
      "outputs": []
    },
    {
      "cell_type": "code",
      "metadata": {
        "id": "ZRT3ByAM3QbH"
      },
      "source": [
        "rscorer = rouge_scorer.RougeScorer(['rouge1', 'rouge2'], use_stemmer=True)\n",
        "\n",
        "rouge_score_list = []\n",
        "bleu_score_list = []\n",
        "\n",
        "print('Len of our corpus:', len(test_data))\n",
        "i = 0\n",
        "for i in range(len(test_data)):\n",
        "  print('Current email: ', i)\n",
        "  email = test_data[i]\n",
        "  txt = email['body']\n",
        "  summary = email['summary']\n",
        "  # parser = PlaintextParser.from_string(txt, tokenizer)\n",
        "  pred = model(txt, num_sentences = 1)\n",
        "  rouge_score_list.append(rscorer.score(summary, pred))\n",
        "  bleu_score_list.append(sacrebleu.raw_corpus_bleu([pred], [[summary]], .01).score)\n",
        "  i+=1\n",
        "\n",
        "\n",
        "print('rouge2-fscore',np.mean([sc['rouge2'].fmeasure for sc in rouge_score_list]))\n",
        "print('rouge1-fscore', np.mean([sc['rouge1'].fmeasure for sc in rouge_score_list]))\n",
        "print('bleu-score',np.mean(bleu_score_list))"
      ],
      "execution_count": null,
      "outputs": []
    },
    {
      "cell_type": "code",
      "metadata": {
        "colab": {
          "base_uri": "https://localhost:8080/"
        },
        "id": "6zw8kUHXUnS_",
        "outputId": "ec7fe77e-e3cf-4959-f32f-14b0454a5d09"
      },
      "source": [
        "i = 0\n",
        "while i<=5:\n",
        "  print('body: ', test_data[i]['body'])\n",
        "  print('actual summary: ', test_data[i]['summary'])\n",
        "  print('predicted summary SCI-BERTSUM: ', model(test_data[i]['body'], num_sentences = 1))\n",
        "  print('\\n')\n",
        "  i+=1"
      ],
      "execution_count": null,
      "outputs": [
        {
          "output_type": "stream",
          "text": [
            "body:  > In fact, I have it on the shelf behind me at work as I type this, beside my XHTML, XSLT, CSS, usability, and disability references. \n",
            "Is this bookshelf documented on Kynn.COM, or would you consider sharing with us a short list of the references you find the most helpful? \n",
            "Al\n",
            "actual summary:  Al asks if Kynn's book collection is documented on Kynn's site.\n",
            "predicted summary SCI-BERTSUM:  > In fact, I have it on the shelf behind me at work as I type this, beside my XHTML, XSLT, CSS, usability, and disability references.\n",
            "\n",
            "\n",
            "body:  > Is this bookshelf documented on Kynn.COM, or would you consider sharing with us a short list of the references you find the most helpful? \n",
            "Hey, that's not a bad idea. In fact, I encourage everyone else to share their favorite bookshelf collections -- if relevant to WAI activities. I'll post mine on kynn.com tomorrow when I'm back in the office.\n",
            "actual summary:  Kynn thinks that Al has a good idea and encourages everyone to share their bookshelf collections if relevant to WAI activities.\n",
            "predicted summary SCI-BERTSUM:  COM, or would you consider sharing with us a short list of the references you find the most helpful? In fact, I encourage everyone else to share their favorite bookshelf collections -- if relevant to WAI activities.\n",
            "\n",
            "\n",
            "body:  > Is this bookshelf documented on Kynn.COM, or would you consider sharing with us a short list of the references you find the most helpful? \n",
            "Hey, that's not a bad idea. In fact, I encourage everyone else to share their favorite bookshelf collections -- if relevant to WAI activities. I'll post mine on kynn.com tomorrow when I'm back in the office.\n",
            "actual summary:  Kynn says he will post his collection tomorrow. He also encourages others to do the same, if it is relevant to WAI.\n",
            "predicted summary SCI-BERTSUM:  COM, or would you consider sharing with us a short list of the references you find the most helpful? In fact, I encourage everyone else to share their favorite bookshelf collections -- if relevant to WAI activities.\n",
            "\n",
            "\n",
            "body:  I have built a form which has a submit button on it. If the user activates the button and hasn't filled out the form correctly, a javascript 'alert' pop-up is presented to the user, giving more information. This appears to be in breach of checkpoint 10.1 http://www.w3.org/TR/WCAG10/wai-pageauth.html#tech-avoid-pop-ups Would it be acceptable to provide a warning message, something like 'Submitting this form may result in a pop-up dialog being displayed' before the submit button, in the same color as the background? Thus (I believe) making the text available to screen reader users but not to sighted users? Regards Graham Oliver __________________________________________________ Do You Yahoo!? Get email at your own domain with Yahoo! Mail. http://personal.mail.yahoo.com/\n",
            "actual summary:  Graham asks if it is acceptable to hide text using colours to make it accessible only to users using screen readers.\n",
            "predicted summary SCI-BERTSUM:  I have built a form which has a submit button on it. This appears to be in breach of checkpoint 10.1 http://www.w3.org/TR/WCAG10/wai-pageauth.html#tech-avoid-pop-ups Would it be acceptable to provide a warning message, something like 'Submitting this form may result in a pop-up dialog being displayed' before the submit button, in the same color as the background?\n",
            "\n",
            "\n",
            "body:  I have built a form which has a submit button on it. If the user activates the button and hasn't filled out the form correctly, a javascript 'alert' pop-up is presented to the user, giving more information. This appears to be in breach of checkpoint 10.1 http://www.w3.org/TR/WCAG10/wai-pageauth.html#tech-avoid-pop-ups Would it be acceptable to provide a warning message, something like 'Submitting this form may result in a pop-up dialog being displayed' before the submit button, in the same color as the background? Thus (I believe) making the text available to screen reader users but not to sighted users? Regards Graham Oliver __________________________________________________ Do You Yahoo!? Get email at your own domain with Yahoo! Mail. http://personal.mail.yahoo.com/\n",
            "actual summary:  Graham says he has made a form which includes a submit button. If one presses submit but has not correctly completed the form, an alert will pop-up, giving more information. But this is in breach of checkpoint 10.1. He asks whether he could provide a warning message before the submit button that is the same color as the background. This would make the text available to screen reader users but not sighted users.\n",
            "predicted summary SCI-BERTSUM:  I have built a form which has a submit button on it. This appears to be in breach of checkpoint 10.1 http://www.w3.org/TR/WCAG10/wai-pageauth.html#tech-avoid-pop-ups Would it be acceptable to provide a warning message, something like 'Submitting this form may result in a pop-up dialog being displayed' before the submit button, in the same color as the background?\n",
            "\n",
            "\n",
            "body:  I have built a form which has a submit button on it. If the user activates the button and hasn't filled out the form correctly, a javascript 'alert' pop-up is presented to the user, giving more information. This appears to be in breach of checkpoint 10.1 http://www.w3.org/TR/WCAG10/wai-pageauth.html#tech-avoid-pop-ups Would it be acceptable to provide a warning message, something like 'Submitting this form may result in a pop-up dialog being displayed' before the submit button, in the same color as the background? Thus (I believe) making the text available to screen reader users but not to sighted users? Regards Graham Oliver __________________________________________________ Do You Yahoo!? Get email at your own domain with Yahoo! Mail. http://personal.mail.yahoo.com/\n",
            "actual summary:  Graham comments that h e has built a form with submit button that if the form is not correctly filled out, a pop-up alert will appear. He feels this may be breeching of a rule called checkpoint 10.1 and asks if it is acceptable to provide a warning message in the same color as the background making the text available to screen readers but not regular users.\n",
            "predicted summary SCI-BERTSUM:  I have built a form which has a submit button on it. This appears to be in breach of checkpoint 10.1 http://www.w3.org/TR/WCAG10/wai-pageauth.html#tech-avoid-pop-ups Would it be acceptable to provide a warning message, something like 'Submitting this form may result in a pop-up dialog being displayed' before the submit button, in the same color as the background?\n",
            "\n",
            "\n"
          ],
          "name": "stdout"
        }
      ]
    },
    {
      "cell_type": "code",
      "metadata": {
        "colab": {
          "base_uri": "https://localhost:8080/",
          "height": 35
        },
        "id": "7oCt4hKm3TQT",
        "outputId": "a310e2e3-b9dd-44ab-b2c9-d40addb50aa2"
      },
      "source": [
        "pred = model(test_data[0]['body'], num_sentences = 1)\n",
        "pred"
      ],
      "execution_count": null,
      "outputs": [
        {
          "output_type": "execute_result",
          "data": {
            "application/vnd.google.colaboratory.intrinsic+json": {
              "type": "string"
            },
            "text/plain": [
              "'> In fact, I have it on the shelf behind me at work as I type this, beside my XHTML, XSLT, CSS, usability, and disability references.'"
            ]
          },
          "metadata": {
            "tags": []
          },
          "execution_count": 32
        }
      ]
    },
    {
      "cell_type": "code",
      "metadata": {
        "colab": {
          "base_uri": "https://localhost:8080/",
          "height": 35
        },
        "id": "D1677paA3gDW",
        "outputId": "8ee91743-3572-404f-988b-d943f04d65ed"
      },
      "source": [
        "true_sum = test_data[0]['summary']\n",
        "true_sum"
      ],
      "execution_count": null,
      "outputs": [
        {
          "output_type": "execute_result",
          "data": {
            "application/vnd.google.colaboratory.intrinsic+json": {
              "type": "string"
            },
            "text/plain": [
              "\"Al asks if Kynn's book collection is documented on Kynn's site.\""
            ]
          },
          "metadata": {
            "tags": []
          },
          "execution_count": 31
        }
      ]
    },
    {
      "cell_type": "code",
      "metadata": {
        "id": "__BO0set3hYt"
      },
      "source": [
        ""
      ],
      "execution_count": null,
      "outputs": []
    }
  ]
}