{
  "nbformat": 4,
  "nbformat_minor": 0,
  "metadata": {
    "colab": {
      "name": "6.684_project_baselines.ipynb",
      "provenance": [],
      "collapsed_sections": [],
      "include_colab_link": true
    },
    "kernelspec": {
      "name": "python3",
      "display_name": "Python 3"
    },
    "language_info": {
      "name": "python"
    }
  },
  "cells": [
    {
      "cell_type": "markdown",
      "metadata": {
        "id": "view-in-github",
        "colab_type": "text"
      },
      "source": [
        "<a href=\"https://colab.research.google.com/github/cicattzo/nlp_project/blob/main/6_684_project_baselines.ipynb\" target=\"_parent\"><img src=\"https://colab.research.google.com/assets/colab-badge.svg\" alt=\"Open In Colab\"/></a>"
      ]
    },
    {
      "cell_type": "code",
      "metadata": {
        "id": "9RlByIw2dLD2",
        "colab": {
          "base_uri": "https://localhost:8080/"
        },
        "outputId": "dac4884e-bc2c-4d6c-f1bd-3833493ecf6c"
      },
      "source": [
        "%%bash\n",
        "pip install sumy"
      ],
      "execution_count": null,
      "outputs": [
        {
          "output_type": "stream",
          "text": [
            "Collecting sumy\n",
            "  Downloading https://files.pythonhosted.org/packages/61/20/8abf92617ec80a2ebaec8dc1646a790fc9656a4a4377ddb9f0cc90bc9326/sumy-0.8.1-py2.py3-none-any.whl (83kB)\n",
            "Requirement already satisfied: nltk>=3.0.2 in /usr/local/lib/python3.7/dist-packages (from sumy) (3.2.5)\n",
            "Collecting pycountry>=18.2.23\n",
            "  Downloading https://files.pythonhosted.org/packages/76/73/6f1a412f14f68c273feea29a6ea9b9f1e268177d32e0e69ad6790d306312/pycountry-20.7.3.tar.gz (10.1MB)\n",
            "Requirement already satisfied: requests>=2.7.0 in /usr/local/lib/python3.7/dist-packages (from sumy) (2.23.0)\n",
            "Collecting breadability>=0.1.20\n",
            "  Downloading https://files.pythonhosted.org/packages/ad/2d/bb6c9b381e6b6a432aa2ffa8f4afdb2204f1ff97cfcc0766a5b7683fec43/breadability-0.1.20.tar.gz\n",
            "Requirement already satisfied: docopt<0.7,>=0.6.1 in /usr/local/lib/python3.7/dist-packages (from sumy) (0.6.2)\n",
            "Requirement already satisfied: six in /usr/local/lib/python3.7/dist-packages (from nltk>=3.0.2->sumy) (1.15.0)\n",
            "Requirement already satisfied: chardet<4,>=3.0.2 in /usr/local/lib/python3.7/dist-packages (from requests>=2.7.0->sumy) (3.0.4)\n",
            "Requirement already satisfied: urllib3!=1.25.0,!=1.25.1,<1.26,>=1.21.1 in /usr/local/lib/python3.7/dist-packages (from requests>=2.7.0->sumy) (1.24.3)\n",
            "Requirement already satisfied: idna<3,>=2.5 in /usr/local/lib/python3.7/dist-packages (from requests>=2.7.0->sumy) (2.10)\n",
            "Requirement already satisfied: certifi>=2017.4.17 in /usr/local/lib/python3.7/dist-packages (from requests>=2.7.0->sumy) (2020.12.5)\n",
            "Requirement already satisfied: lxml>=2.0 in /usr/local/lib/python3.7/dist-packages (from breadability>=0.1.20->sumy) (4.2.6)\n",
            "Building wheels for collected packages: pycountry, breadability\n",
            "  Building wheel for pycountry (setup.py): started\n",
            "  Building wheel for pycountry (setup.py): finished with status 'done'\n",
            "  Created wheel for pycountry: filename=pycountry-20.7.3-py2.py3-none-any.whl size=10746863 sha256=d5972628af9a677e41f16cb0508c32b8f79fe0f0176553fdf81bd3eca1c495a6\n",
            "  Stored in directory: /root/.cache/pip/wheels/33/4e/a6/be297e6b83567e537bed9df4a93f8590ec01c1acfbcd405348\n",
            "  Building wheel for breadability (setup.py): started\n",
            "  Building wheel for breadability (setup.py): finished with status 'done'\n",
            "  Created wheel for breadability: filename=breadability-0.1.20-py2.py3-none-any.whl size=21680 sha256=5d36dc7c46e801cf7bdf5449fd37c1c24c9e83041e310225999417bc9c1f653d\n",
            "  Stored in directory: /root/.cache/pip/wheels/5a/4d/a1/510b12c5e65e0b2b3ce539b2af66da0fc57571e528924f4a52\n",
            "Successfully built pycountry breadability\n",
            "Installing collected packages: pycountry, breadability, sumy\n",
            "Successfully installed breadability-0.1.20 pycountry-20.7.3 sumy-0.8.1\n"
          ],
          "name": "stdout"
        }
      ]
    },
    {
      "cell_type": "code",
      "metadata": {
        "id": "JqQb4P5mbwgj",
        "colab": {
          "base_uri": "https://localhost:8080/"
        },
        "outputId": "53ee65e6-99a4-4b53-daea-c9b4e9195f61"
      },
      "source": [
        "from google.colab import drive\n",
        "drive.mount('/content/gdrive')"
      ],
      "execution_count": null,
      "outputs": [
        {
          "output_type": "stream",
          "text": [
            "Mounted at /content/gdrive\n"
          ],
          "name": "stdout"
        }
      ]
    },
    {
      "cell_type": "code",
      "metadata": {
        "id": "ittEMbdAdFL1"
      },
      "source": [
        "import sys\n",
        "import pandas as pd\n",
        "import numpy as np\n",
        "import re\n",
        "# import xml.etree.ElementTree as ET\n",
        "# from talon.signature.bruteforce import extract_signature\n",
        "# import email"
      ],
      "execution_count": null,
      "outputs": []
    },
    {
      "cell_type": "code",
      "metadata": {
        "id": "d-gxQ0BpdFOk"
      },
      "source": [
        "from sumy.parsers.plaintext import PlaintextParser\n",
        "from sumy.nlp.tokenizers import Tokenizer\n",
        "from sumy.summarizers.lsa import LsaSummarizer\n",
        "from sumy.summarizers.text_rank import TextRankSummarizer\n",
        "from sumy.nlp.stemmers import Stemmer\n",
        "from sumy.utils import get_stop_words"
      ],
      "execution_count": null,
      "outputs": []
    },
    {
      "cell_type": "code",
      "metadata": {
        "colab": {
          "base_uri": "https://localhost:8080/"
        },
        "id": "uFCoL4w_ZLxi",
        "outputId": "4ae3088e-ea80-4eff-c9fd-9d4a91473fd4"
      },
      "source": [
        "import nltk\n",
        "nltk.download('punkt')"
      ],
      "execution_count": null,
      "outputs": [
        {
          "output_type": "stream",
          "text": [
            "[nltk_data] Downloading package punkt to /root/nltk_data...\n",
            "[nltk_data]   Unzipping tokenizers/punkt.zip.\n"
          ],
          "name": "stdout"
        },
        {
          "output_type": "execute_result",
          "data": {
            "text/plain": [
              "True"
            ]
          },
          "metadata": {
            "tags": []
          },
          "execution_count": 6
        }
      ]
    },
    {
      "cell_type": "markdown",
      "metadata": {
        "id": "YqxndqoF6Yeh"
      },
      "source": [
        "## Basic structure for summarization with Sumy"
      ]
    },
    {
      "cell_type": "code",
      "metadata": {
        "id": "tVPW-GwHdFRi"
      },
      "source": [
        "LANGUAGE = \"english\"\n",
        "SENTENCES_COUNT = 10\n",
        "tokenizer = Tokenizer(LANGUAGE)\n",
        "stemmer = Stemmer(LANGUAGE)\n",
        "# change this line to any other summarizer\n",
        "summarizer = TextRankSummarizer(stemmer)\n",
        "summarizer.stop_words = get_stop_words(LANGUAGE)"
      ],
      "execution_count": null,
      "outputs": []
    },
    {
      "cell_type": "markdown",
      "metadata": {
        "id": "d4uiqjN79sBH"
      },
      "source": [
        "loading pre-processed BC3 emails corpus"
      ]
    },
    {
      "cell_type": "code",
      "metadata": {
        "id": "UKKqEQQbQ_qZ"
      },
      "source": [
        "bc3_df = pd.read_csv(\"/content/gdrive/My Drive/6864_project/bc3_processed.csv\")"
      ],
      "execution_count": null,
      "outputs": []
    },
    {
      "cell_type": "code",
      "metadata": {
        "id": "hj-jGLS0Y2Us"
      },
      "source": [
        "txt = bc3_df.iloc[0]['body']\n",
        "summary = bc3_df.iloc[0]['summary']"
      ],
      "execution_count": null,
      "outputs": []
    },
    {
      "cell_type": "code",
      "metadata": {
        "id": "ofHD98VkZGkZ"
      },
      "source": [
        "parser = PlaintextParser.from_string(txt, tokenizer)"
      ],
      "execution_count": null,
      "outputs": []
    },
    {
      "cell_type": "code",
      "metadata": {
        "colab": {
          "base_uri": "https://localhost:8080/"
        },
        "id": "UL-FOQOEZd2a",
        "outputId": "cde28e88-8e53-4670-91c0-010e695eeed2"
      },
      "source": [
        "print(\"The Text:\\n\")\n",
        "print(txt)\n",
        "print(\"\\nThe Summary:\\n\")\n",
        "print(summary)\n",
        "print(\"\\nText Rank\\n\")\n",
        "\n",
        "for sentence in summarizer(parser.document, SENTENCES_COUNT):\n",
        "    print(sentence)\n",
        "    break"
      ],
      "execution_count": null,
      "outputs": [
        {
          "output_type": "stream",
          "text": [
            "The Text:\n",
            "\n",
            "The IETF meetings tend to become too large, creating logistics and planning problems. I suggest that future meetings are held for two weeks, with applications and user services issues the first week, and all other issues the second week. Those who so wish could attend both weeks, and other people could attend only one week. Those who choose to attend both weeks would be able to cover more groups and do better liaisons between the different areas. The Friday of the first week could discuss applications issues which might be of special interest to the other areas, and the Monday of the second week would schedule other groups which might be of special interest to applications people, so some people could attend Monday-Monday or Friday-Friday. \n",
            "------------------------------------------------------------------------ \n",
            "Jacob Palme &lt;jpalme@dsv.su.se&gt; (Stockholm University and KTH) \n",
            "for more info see URL: http://www.dsv.su.se/~jpalme\n",
            "\n",
            "The Summary:\n",
            "\n",
            "Jacob suggested to hold two week meetings, the first will discuss user service issues and all other issues the following week, he said people can attend one week or both.\n",
            "\n",
            "Text Rank\n",
            "\n",
            "The IETF meetings tend to become too large, creating logistics and planning problems.\n"
          ],
          "name": "stdout"
        }
      ]
    },
    {
      "cell_type": "code",
      "metadata": {
        "colab": {
          "base_uri": "https://localhost:8080/",
          "height": 35
        },
        "id": "hZZjymOWZjsF",
        "outputId": "90116714-321a-463b-c350-f1ef0369559c"
      },
      "source": [
        "bc3_df.iloc[0]['subject']"
      ],
      "execution_count": null,
      "outputs": [
        {
          "output_type": "execute_result",
          "data": {
            "application/vnd.google.colaboratory.intrinsic+json": {
              "type": "string"
            },
            "text/plain": [
              "'Extending IETF meetings to two weeks?'"
            ]
          },
          "metadata": {
            "tags": []
          },
          "execution_count": 21
        }
      ]
    },
    {
      "cell_type": "code",
      "metadata": {
        "id": "NV4Ye0_yZy2m",
        "colab": {
          "base_uri": "https://localhost:8080/"
        },
        "outputId": "bce68ce7-1d4b-4957-c672-6bbbc02f4605"
      },
      "source": [
        "bc3_df['listno'] + \"-\" + bc3_df['email_num'].astype(str)"
      ],
      "execution_count": null,
      "outputs": [
        {
          "output_type": "execute_result",
          "data": {
            "text/plain": [
              "0       007-7484738-1\n",
              "1       007-7484738-1\n",
              "2       007-7484738-1\n",
              "3       007-7484738-2\n",
              "4       007-7484738-2\n",
              "            ...      \n",
              "664    107-16164699-6\n",
              "665    107-16164699-6\n",
              "666    107-16164699-6\n",
              "667    107-16164699-7\n",
              "668    107-16164699-7\n",
              "Length: 669, dtype: object"
            ]
          },
          "metadata": {
            "tags": []
          },
          "execution_count": 16
        }
      ]
    },
    {
      "cell_type": "markdown",
      "metadata": {
        "id": "hglp4XvV9xBj"
      },
      "source": [
        "Converting BC3 corpus to a dict"
      ]
    },
    {
      "cell_type": "code",
      "metadata": {
        "id": "DXz9MnrJ90C3"
      },
      "source": [
        "# keeping the subject and body separate, but they can be merged\n",
        "bc3_df['unique_key'] = bc3_df['listno'] + \"-\" + bc3_df['email_num'].astype(str)\n",
        "bc3_dict = bc3_df.groupby('unique_key').agg({'subject':lambda x: x.iloc[0], 'body':lambda x: x.iloc[0], 'summary':lambda x: x.to_list()}).to_dict()"
      ],
      "execution_count": null,
      "outputs": []
    },
    {
      "cell_type": "markdown",
      "metadata": {
        "id": "F1IpbAvCChDj"
      },
      "source": [
        "The structure of the dict is: \\\n",
        "{ \\\n",
        "  'subject': Dict(str: unique_key => str: subject_text) \\\n",
        "  'body':    Dict(str: unique_key => str: body_text) \\\n",
        "  'summary': Dict(str: unique_key => list: candidate_summaries ) \\\n",
        "  } \\\\\n",
        "\n",
        "  Look at the example below for more clarity\n",
        "  "
      ]
    },
    {
      "cell_type": "code",
      "metadata": {
        "colab": {
          "base_uri": "https://localhost:8080/"
        },
        "id": "V2XI-E3V91z7",
        "outputId": "1a4af600-245f-45f7-e91b-bd38e3abec29"
      },
      "source": [
        "keys = list(bc3_dict['summary'].keys())\n",
        "# candidate summaries for the first email\n",
        "bc3_dict['summary'][keys[0]]"
      ],
      "execution_count": null,
      "outputs": [
        {
          "output_type": "execute_result",
          "data": {
            "text/plain": [
              "['Jacob suggested to hold two week meetings, the first will discuss user service issues and all other issues the following week, he said people can attend one week or both.',\n",
              " 'Jacob suggests that future IETF meetings be spread over two weeks.',\n",
              " 'The topic is the logistics of scheduling IETF meetings A suggestion is made to hold future meetings for two weeks to spread out the volume of participants']"
            ]
          },
          "metadata": {
            "tags": []
          },
          "execution_count": 26
        }
      ]
    },
    {
      "cell_type": "code",
      "metadata": {
        "id": "Z0tBB8fCAd-2"
      },
      "source": [
        ""
      ],
      "execution_count": null,
      "outputs": []
    }
  ]
}